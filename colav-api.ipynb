{
 "cells": [
  {
   "cell_type": "markdown",
   "metadata": {},
   "source": [
    "## Example API Colav\n",
    "Portal (alpha): http://clustercien.udea.edu.co:8889/ \n",
    "## Videos \n",
    "* [Citas Google Scholar](https://drive.google.com/file/d/16KGEHGMCyzHejyh_JIPYgyhzkgSTMxTC/view?usp=sharing)\n",
    "  * [links](https://drive.google.com/file/d/1rLYtO3p7a69NovcNBJt9AJliS8cqd9w5/view?usp=sharing)\n",
    "* [DevOps](https://drive.google.com/file/d/1hM_hcPu0pSq7KLpunXxEnkPpwHNDWQd0/view?usp=sharing)\n",
    "  * [links](https://drive.google.com/file/d/1g0MncnWaBI2MkBQM8vNpu33n9gCkiPcj/view?usp=sharing)\n",
    "* [Elasticsearch](https://drive.google.com/file/d/17wqExlzGmF4zMUcCTbLSH-vBbfuBSOqn/view?usp=sharing)\n",
    "* [MongoDB](https://drive.google.com/file/d/1FbLKiWGDUQij1yzkw-wMNMWCds0u-kTg/view?usp=sharing)\n",
    "  * [Notebook](https://drive.google.com/file/d/1IrRml7TNzYHbqetOeX3H3Kf9sjQxNiFA/view?usp=sharing)\n",
    "* [Endpoint](https://drive.google.com/file/d/1nO8Ypz-U7S2yb2guMDvDtCYyN180u_Nj/view?usp=sharing)\n",
    "* Capacitación API: https://drive.google.com/file/d/1y4-cm2tPLHPvDuNdqRwx6kQ8dztZfBIg/view?usp=sharing\n",
    "  \n",
    "## Dev code:\n",
    "* https://github.com/muzgash/HunabKu/tree/fase3/hunabku/plugins\n",
    "## Documentation\n",
    "* http://clustercien.udea.edu.co:8888/apidoc/index.html"
   ]
  },
  {
   "cell_type": "code",
   "execution_count": 1,
   "metadata": {},
   "outputs": [],
   "source": [
    "import pandas as pd\n",
    "import getpass\n",
    "import time "
   ]
  },
  {
   "cell_type": "code",
   "execution_count": 2,
   "metadata": {},
   "outputs": [
    {
     "name": "stdin",
     "output_type": "stream",
     "text": [
      "API KEY ·········\n"
     ]
    }
   ],
   "source": [
    "key=getpass.getpass('API KEY')"
   ]
  },
  {
   "cell_type": "markdown",
   "metadata": {},
   "source": [
    "TEST"
   ]
  },
  {
   "cell_type": "code",
   "execution_count": 3,
   "metadata": {},
   "outputs": [],
   "source": [
    "max_docs=1\n",
    "p=1\n",
    "df=pd.read_json(f'http://clustercien.udea.edu.co:8888/api/faculties?apikey={key}&data=production&max=1&page=1')"
   ]
  },
  {
   "cell_type": "markdown",
   "metadata": {},
   "source": [
    "Get the full documents"
   ]
  },
  {
   "cell_type": "code",
   "execution_count": 5,
   "metadata": {},
   "outputs": [
    {
     "name": "stdout",
     "output_type": "stream",
     "text": [
      "++++++++++++++++++++++++++++++++\n"
     ]
    }
   ],
   "source": [
    "#Get total results\n",
    "max_docs=1\n",
    "p=1\n",
    "tmp=pd.read_json('http://clustercien.udea.edu.co:8888/api/faculties?apikey={}&data=production&max={}&page={}'.format(key,max_docs,p))\n",
    "#Get all documents\n",
    "max_docs=100\n",
    "pages=tmp['total_results'].loc[0]//max_docs\n",
    "\n",
    "#Get all documents\n",
    "max_docs=100\n",
    "pages=tmp['total_results'].loc[0]//max_docs\n",
    "if pages%max_docs>0:\n",
    "    pages=pages+1\n",
    "if pages>=1:\n",
    "    df=pd.DataFrame()\n",
    "    for p in range(1,pages+1):\n",
    "        if p%10==0: print('+',end='')\n",
    "        try:\n",
    "            tmp=pd.read_json('http://clustercien.udea.edu.co:8888/api/faculties?apikey={}&data=production&max={}&page={}'.format(key,max_docs,p))\n",
    "        except:\n",
    "            tmp=pd.DataFrame()\n",
    "        df=df.append( tmp['data'].values.tolist(),ignore_index=True  )\n",
    "        time.sleep(1)\n",
    "print()"
   ]
  },
  {
   "cell_type": "code",
   "execution_count": 6,
   "metadata": {},
   "outputs": [],
   "source": [
    "SAVE=False\n",
    "if SAVE:\n",
    "    df.to_json('udea.json',orient='records')"
   ]
  },
  {
   "cell_type": "code",
   "execution_count": 2,
   "metadata": {},
   "outputs": [],
   "source": [
    "df=pd.read_json('udea.json')"
   ]
  },
  {
   "cell_type": "markdown",
   "metadata": {},
   "source": [
    "By document type"
   ]
  },
  {
   "cell_type": "code",
   "execution_count": 3,
   "metadata": {},
   "outputs": [],
   "source": [
    "def get_affiliation(l,name= 'Universidad de Antioquia'):\n",
    "    aff=False\n",
    "    for d in l:\n",
    "        if isinstance( d.get('affiliations'), list):\n",
    "            for dd in d.get('affiliations'):\n",
    "                if dd.get('name')==name:\n",
    "                    aff=True\n",
    "    return aff"
   ]
  },
  {
   "cell_type": "code",
   "execution_count": 4,
   "metadata": {},
   "outputs": [],
   "source": [
    "df=df[df.authors.apply(lambda l: get_affiliation(l,name= 'Universidad de Antioquia'))].reset_index(drop=True)"
   ]
  },
  {
   "cell_type": "code",
   "execution_count": 5,
   "metadata": {},
   "outputs": [
    {
     "data": {
      "text/plain": [
       "'year_published'"
      ]
     },
     "execution_count": 5,
     "metadata": {},
     "output_type": "execute_result"
    }
   ],
   "source": [
    "'year_published'"
   ]
  },
  {
   "cell_type": "code",
   "execution_count": 6,
   "metadata": {},
   "outputs": [
    {
     "data": {
      "text/plain": [
       "(25961, 31)"
      ]
     },
     "execution_count": 6,
     "metadata": {},
     "output_type": "execute_result"
    }
   ],
   "source": [
    "df.shape"
   ]
  },
  {
   "cell_type": "code",
   "execution_count": 7,
   "metadata": {},
   "outputs": [
    {
     "data": {
      "text/plain": [
       "array(['book chapter', 'journal article',\n",
       "       'conference proceedings article', 'article', 'preprint',\n",
       "       'conference proceedings', 'series', 'review', 'book',\n",
       "       'article; proceedings paper', 'editorial material',\n",
       "       'journal issue', 'article; early access', 'letter',\n",
       "       'article; data paper', 'journal', 'report', 'correction',\n",
       "       'proceedings paper', 'dissertation', 'book review', '',\n",
       "       'clinical trial', 'meeting abstract', 'biographical-item', 'note'],\n",
       "      dtype=object)"
      ]
     },
     "execution_count": 7,
     "metadata": {},
     "output_type": "execute_result"
    }
   ],
   "source": [
    "df['publication_type'].unique()"
   ]
  },
  {
   "cell_type": "code",
   "execution_count": 8,
   "metadata": {},
   "outputs": [],
   "source": [
    "nttmp=df[df['publication_type']==''].reset_index(drop=True)\n",
    "nt=nttmp[nttmp.bibtex.str.split(\"@article{\").str[-1].str.split('\\n').str[3].str.contains('journal=').fillna(False)]\n",
    "nnt=nttmp[~nttmp.bibtex.str.split(\"@article{\").str[-1].str.split('\\n').str[3].str.contains('journal=').fillna(False)]"
   ]
  },
  {
   "cell_type": "markdown",
   "metadata": {},
   "source": [
    "Margen de error: Ver https://github.com/colav/Kahi/issues/31"
   ]
  },
  {
   "cell_type": "code",
   "execution_count": 9,
   "metadata": {},
   "outputs": [
    {
     "data": {
      "text/plain": [
       "4       [  year={2009},,   publisher={Universidad de A...\n",
       "10      [  year={2015},,   publisher={Universidad de A...\n",
       "20      [  booktitle={Congresos CLABES},,   year={2015...\n",
       "27      [  year={2005},,   publisher={Universidad de A...\n",
       "29      [  year={2010},,   publisher={Universidad de A...\n",
       "                              ...                        \n",
       "7169                                                   []\n",
       "7170                                                   []\n",
       "7172                                                   []\n",
       "7177    [  year={2004},,   publisher={Universidad de A...\n",
       "7182                                 [  year={1992}, }, ]\n",
       "Name: bibtex, Length: 950, dtype: object"
      ]
     },
     "execution_count": 9,
     "metadata": {},
     "output_type": "execute_result"
    }
   ],
   "source": [
    "nnt.bibtex.str.split(\"@article{\").str[-1].str.split('\\n').str[3:]"
   ]
  },
  {
   "cell_type": "code",
   "execution_count": 10,
   "metadata": {},
   "outputs": [
    {
     "data": {
      "text/plain": [
       "(7185, 6235)"
      ]
     },
     "execution_count": 10,
     "metadata": {},
     "output_type": "execute_result"
    }
   ],
   "source": [
    "nttmp.shape[0],nt.shape[0]"
   ]
  },
  {
   "cell_type": "code",
   "execution_count": 11,
   "metadata": {},
   "outputs": [],
   "source": [
    "df=df[( ( df['publication_type']!='preprint' ) & \n",
    "    ( df['publication_type']!='correction' ) &\n",
    "    ( df['publication_type']!='book review' ) &\n",
    "    ( df['publication_type']!= 'meeting abstract' ) &\n",
    "    ( df['publication_type']!= 'biographical-item' ) &\n",
    "    ( df['publication_type']!= 'note' ) \n",
    "   )].reset_index(drop=True)"
   ]
  },
  {
   "cell_type": "code",
   "execution_count": 32,
   "metadata": {},
   "outputs": [
    {
     "data": {
      "text/plain": [
       "(25908, 31)"
      ]
     },
     "execution_count": 32,
     "metadata": {},
     "output_type": "execute_result"
    }
   ],
   "source": [
    "df.shape"
   ]
  },
  {
   "cell_type": "code",
   "execution_count": 13,
   "metadata": {},
   "outputs": [
    {
     "data": {
      "text/plain": [
       "array(['book chapter', 'journal article',\n",
       "       'conference proceedings article', 'article',\n",
       "       'conference proceedings', 'series', 'review', 'book',\n",
       "       'article; proceedings paper', 'editorial material',\n",
       "       'journal issue', 'article; early access', 'letter',\n",
       "       'article; data paper', 'journal', 'report', 'proceedings paper',\n",
       "       'dissertation', '', 'clinical trial'], dtype=object)"
      ]
     },
     "execution_count": 13,
     "metadata": {},
     "output_type": "execute_result"
    }
   ],
   "source": [
    "df['publication_type'].unique()"
   ]
  },
  {
   "cell_type": "code",
   "execution_count": 14,
   "metadata": {},
   "outputs": [
    {
     "data": {
      "text/plain": [
       "(9527, 31)"
      ]
     },
     "execution_count": 14,
     "metadata": {},
     "output_type": "execute_result"
    }
   ],
   "source": [
    "df[df['year_published']>2014].shape"
   ]
  },
  {
   "cell_type": "code",
   "execution_count": 15,
   "metadata": {},
   "outputs": [
    {
     "data": {
      "text/plain": [
       "year_published\n",
       "2016    2042\n",
       "2017    1835\n",
       "2018    1676\n",
       "2019    1594\n",
       "2020     458\n",
       "Name: year_published, dtype: int64"
      ]
     },
     "execution_count": 15,
     "metadata": {},
     "output_type": "execute_result"
    }
   ],
   "source": [
    "df[df['year_published']>2015].groupby('year_published')['year_published'].count()"
   ]
  },
  {
   "cell_type": "markdown",
   "metadata": {},
   "source": [
    "Comparisssion with https://link.lens.org/WsuTK1cXrbk for all publication types\n",
    "```\n",
    "2016 2043\n",
    "2017 1844\n",
    "2018 1742\n",
    "2019 1706\n",
    "2020 1723\n",
    "TOTAL 29736\n",
    "```\n",
    "For Journal Article, Conference Proceedings (article), Book chapter, Book\n",
    "```\n",
    "2016 1534\n",
    "2017 1479\n",
    "2018 1462\n",
    "2019 1487\n",
    "2020 1593\n",
    "TOTAL 20425 # https://link.lens.org/3StGzoZb8je\n",
    "```"
   ]
  },
  {
   "cell_type": "code",
   "execution_count": 26,
   "metadata": {},
   "outputs": [],
   "source": [
    "def get_db(l,dbs=['scopus','wos']):\n",
    "    chkdb=False\n",
    "    for d in l:\n",
    "        if d.get('source') in dbs:\n",
    "            chkdb=True\n",
    "    return chkdb"
   ]
  },
  {
   "cell_type": "code",
   "execution_count": 33,
   "metadata": {},
   "outputs": [],
   "source": [
    "dfs=df[df['external_ids'].apply(lambda l: get_db(l,dbs=['scopus','wos']) )].reset_index(drop=True)"
   ]
  },
  {
   "cell_type": "code",
   "execution_count": 19,
   "metadata": {},
   "outputs": [
    {
     "data": {
      "text/plain": [
       "[{'id': '101-092-542-835-129', 'source': 'lens'},\n",
       " {'id': '1967859901', 'source': 'magid'},\n",
       " {'id': '82782675', 'source': 'coreid'},\n",
       " {'id': '10.1016/j.rccar.2014.06.005', 'source': 'doi'},\n",
       " {'id': 'JdWY8CFxctwJ', 'source': 'scholar'}]"
      ]
     },
     "execution_count": 19,
     "metadata": {},
     "output_type": "execute_result"
    }
   ],
   "source": [
    "df['external_ids'].loc[1]"
   ]
  },
  {
   "cell_type": "code",
   "execution_count": 34,
   "metadata": {},
   "outputs": [
    {
     "data": {
      "text/plain": [
       "year_published\n",
       "2016     987\n",
       "2017    1057\n",
       "2018    1100\n",
       "2019    1127\n",
       "2020     345\n",
       "Name: year_published, dtype: int64"
      ]
     },
     "execution_count": 34,
     "metadata": {},
     "output_type": "execute_result"
    }
   ],
   "source": [
    "dfs[dfs['year_published']>2015].groupby('year_published')['year_published'].count()"
   ]
  },
  {
   "cell_type": "code",
   "execution_count": 7,
   "metadata": {},
   "outputs": [],
   "source": [
    "from unidecode import unidecode"
   ]
  },
  {
   "cell_type": "markdown",
   "metadata": {},
   "source": [
    "search for some author"
   ]
  },
  {
   "cell_type": "code",
   "execution_count": 8,
   "metadata": {},
   "outputs": [
    {
     "data": {
      "text/plain": [
       "(29, 20)"
      ]
     },
     "execution_count": 8,
     "metadata": {},
     "output_type": "execute_result"
    }
   ],
   "source": [
    "oz=df[df.authors.apply(lambda l: True in [unidecode(d.get('full_name'))=='Oscar Alberto Zapata Norena' for d in l ] )]\n",
    "oz.shape[0],oz[oz['topics'].astype(str).str.lower().str.contains('physics')].shape[0]"
   ]
  },
  {
   "cell_type": "markdown",
   "metadata": {},
   "source": [
    "Define a function to get a flat DataFrame with articles for an author"
   ]
  },
  {
   "cell_type": "code",
   "execution_count": 9,
   "metadata": {},
   "outputs": [],
   "source": [
    "from unidecode import unidecode\n",
    "def get_author(df,author):\n",
    "    da=df[df.authors.apply(lambda l: True in [unidecode(d.get('full_name'))==unidecode(author) for d in l ] )].reset_index(drop=True)\n",
    "\n",
    "    da['authors']=da.authors.apply(lambda l: [d.get('full_name') for d in l])\n",
    "\n",
    "    da['doi']=da['external_ids'].apply(lambda l: [d.get('id') for d in l if d.get('source')=='doi']).str[0].fillna('')\n",
    "    da['title']=da['titles'].apply(lambda l: [d.get('title') for d in l]).str[0]\n",
    "    da['journal']=da['source'].apply(lambda d: d.get('title') )\n",
    "    da['issn']=da['source'].apply(lambda d: [x.get('value') for x in d.get('serials')]).str[0]\n",
    "\n",
    "    return da[['authors','title','publication_type','journal','issn',\n",
    "               'year_published','issue', 'start_page',\n",
    "               'end_page','doi','citations_count']]"
   ]
  },
  {
   "cell_type": "code",
   "execution_count": 10,
   "metadata": {},
   "outputs": [],
   "source": [
    "authors=['Liliana Mahecha Ledesma',\n",
    "'Joaquín Angulo Arizala',\n",
    "'Sandra Lucía Posada Ochoa',\n",
    "'Jaime Ricardo Rosero Noguera',\n",
    "'Jorge Hernán Agudelo Trujillo',\n",
    "'Marisol Medina Sierra',\n",
    "'Mónica María Estrada Pareja',\n",
    "'Sara María Márquez Girón',\n",
    "'Mario Fernando Cerón Muñoz',\n",
    "'Luis Fernando Galeano Vasco',\n",
    "'Henry Cardona Cadavid',\n",
    "'Zulma Tatiana Ruiz Cortez',\n",
    "'Holmes Hernan Rodríguez Espinosa',\n",
    "'José Fernando Guarín Montoya',\n",
    "'Julio Echeverri Gómez',\n",
    "'Elkin Mauricio Arboleda Zapata',\n",
    "'Juan David Rodas González',\n",
    "'Martha Eufemia Olivera Ángel',\n",
    "'Jenny Jovana Chaparro Gutiérrez']"
   ]
  },
  {
   "cell_type": "code",
   "execution_count": 11,
   "metadata": {},
   "outputs": [
    {
     "data": {
      "text/plain": [
       "19"
      ]
     },
     "execution_count": 11,
     "metadata": {},
     "output_type": "execute_result"
    }
   ],
   "source": [
    "len(authors)"
   ]
  },
  {
   "cell_type": "code",
   "execution_count": 12,
   "metadata": {},
   "outputs": [
    {
     "name": "stdout",
     "output_type": "stream",
     "text": [
      "WARNING: missing Zulma Tatiana Ruiz Cortez\n",
      "WARNING: missing Julio Echeverri Gómez\n"
     ]
    }
   ],
   "source": [
    "das=pd.DataFrame()\n",
    "for a in authors:\n",
    "    da=get_author(df,a)\n",
    "    if da.empty:\n",
    "        print(f'WARNING: missing {a}')\n",
    "    da['autor_maestría']=a\n",
    "    das=das.append(da).reset_index(drop=True)"
   ]
  },
  {
   "cell_type": "code",
   "execution_count": 13,
   "metadata": {},
   "outputs": [],
   "source": [
    "das=das.reset_index(drop=True)[['autor_maestría','authors','title','publication_type',\n",
    "                                'journal','issn','year_published','issue', 'start_page',\n",
    "                                'end_page','doi','citations_count']]"
   ]
  },
  {
   "cell_type": "markdown",
   "metadata": {},
   "source": [
    "Check data quality"
   ]
  },
  {
   "cell_type": "code",
   "execution_count": 14,
   "metadata": {},
   "outputs": [
    {
     "data": {
      "text/plain": [
       "(869, 12)"
      ]
     },
     "execution_count": 14,
     "metadata": {},
     "output_type": "execute_result"
    }
   ],
   "source": [
    "das.shape"
   ]
  },
  {
   "cell_type": "code",
   "execution_count": 15,
   "metadata": {},
   "outputs": [],
   "source": [
    "das=das.drop_duplicates('title').reset_index(drop=True)"
   ]
  },
  {
   "cell_type": "code",
   "execution_count": 16,
   "metadata": {},
   "outputs": [
    {
     "data": {
      "text/plain": [
       "(700, 12)"
      ]
     },
     "execution_count": 16,
     "metadata": {},
     "output_type": "execute_result"
    }
   ],
   "source": [
    "das.shape"
   ]
  },
  {
   "cell_type": "code",
   "execution_count": 200,
   "metadata": {},
   "outputs": [],
   "source": [
    "dasy=das[das['journal']!=''].reset_index(drop=True)\n",
    "dasn=das[das['journal']==''].reset_index(drop=True)"
   ]
  },
  {
   "cell_type": "code",
   "execution_count": 201,
   "metadata": {},
   "outputs": [
    {
     "data": {
      "text/plain": [
       "700"
      ]
     },
     "execution_count": 201,
     "metadata": {},
     "output_type": "execute_result"
    }
   ],
   "source": [
    "dasy.shape[0]+dasn.shape[0]"
   ]
  },
  {
   "cell_type": "code",
   "execution_count": 202,
   "metadata": {},
   "outputs": [
    {
     "data": {
      "text/plain": [
       "(582, 12)"
      ]
     },
     "execution_count": 202,
     "metadata": {},
     "output_type": "execute_result"
    }
   ],
   "source": [
    "dasy.shape"
   ]
  },
  {
   "cell_type": "code",
   "execution_count": 203,
   "metadata": {},
   "outputs": [],
   "source": [
    "dasy=dasy.drop_duplicates(subset=['journal','issn','year_published','issue','start_page','end_page','doi']).reset_index(drop=True)"
   ]
  },
  {
   "cell_type": "code",
   "execution_count": 204,
   "metadata": {},
   "outputs": [],
   "source": [
    "das=dasy.append(dasn).reset_index(drop=True)"
   ]
  },
  {
   "cell_type": "code",
   "execution_count": 205,
   "metadata": {},
   "outputs": [],
   "source": [
    "das.to_excel('produccion_total_maestria_en_ciencias_animales.xlsx',index=False)"
   ]
  },
  {
   "cell_type": "code",
   "execution_count": 206,
   "metadata": {},
   "outputs": [
    {
     "data": {
      "text/html": [
       "<div>\n",
       "<style scoped>\n",
       "    .dataframe tbody tr th:only-of-type {\n",
       "        vertical-align: middle;\n",
       "    }\n",
       "\n",
       "    .dataframe tbody tr th {\n",
       "        vertical-align: top;\n",
       "    }\n",
       "\n",
       "    .dataframe thead th {\n",
       "        text-align: right;\n",
       "    }\n",
       "</style>\n",
       "<table border=\"1\" class=\"dataframe\">\n",
       "  <thead>\n",
       "    <tr style=\"text-align: right;\">\n",
       "      <th></th>\n",
       "      <th>autor_maestría</th>\n",
       "      <th>authors</th>\n",
       "      <th>title</th>\n",
       "      <th>publication_type</th>\n",
       "      <th>journal</th>\n",
       "      <th>issn</th>\n",
       "      <th>year_published</th>\n",
       "      <th>issue</th>\n",
       "      <th>start_page</th>\n",
       "      <th>end_page</th>\n",
       "      <th>doi</th>\n",
       "      <th>citations_count</th>\n",
       "    </tr>\n",
       "  </thead>\n",
       "  <tbody>\n",
       "    <tr>\n",
       "      <th>0</th>\n",
       "      <td>Liliana Mahecha Ledesma</td>\n",
       "      <td>[Joaquin Angulo Arizala, Luis Miguel Gómez, Liliana Mahecha Ledesma, Estefanía Mejía, Javier Henao, Carolina Mesa]</td>\n",
       "      <td>Calf’s sex, parity and the hour of harvest after calving affect colostrum quality of dairy cows grazing under high tropical conditions</td>\n",
       "      <td>journal article</td>\n",
       "      <td>Tropical Animal Health and Production</td>\n",
       "      <td>00494747</td>\n",
       "      <td>2015</td>\n",
       "      <td>4</td>\n",
       "      <td>699</td>\n",
       "      <td>705</td>\n",
       "      <td>10.1007/s11250-015-0781-z</td>\n",
       "      <td>13</td>\n",
       "    </tr>\n",
       "    <tr>\n",
       "      <th>1</th>\n",
       "      <td>Liliana Mahecha Ledesma</td>\n",
       "      <td>[Juan Londoño C, Liliana Mahecha Ledesma, Joaquín Angulo A]</td>\n",
       "      <td>Desempeño agronómico y valor nutritivo de Tithonia diversifolia (Hemsl.) A Gray para la alimentación de bovinos</td>\n",
       "      <td>journal article</td>\n",
       "      <td>Revista Colombiana de Ciencia Animal Recia</td>\n",
       "      <td>20274297</td>\n",
       "      <td>2019</td>\n",
       "      <td>1</td>\n",
       "      <td></td>\n",
       "      <td></td>\n",
       "      <td>10.24188/recia.v0.n0.2019.693</td>\n",
       "      <td>5</td>\n",
       "    </tr>\n",
       "    <tr>\n",
       "      <th>2</th>\n",
       "      <td>Liliana Mahecha Ledesma</td>\n",
       "      <td>[Joaquin Angulo Arizala, B. Hiller, E. Albrecht, Martha Eufemia Olivera Angel, Liliana Mahecha Ledesma, G. Nuernberg, D. Dannenberger, K. Nuernberg]</td>\n",
       "      <td>Effect of different dietary fats on protein expression of sterol regulatory element-binding protein 1 (SREBP-1) in mammary gland tissue of lactating cows</td>\n",
       "      <td>article</td>\n",
       "      <td>LIVESTOCK SCIENCE</td>\n",
       "      <td>18711413</td>\n",
       "      <td>2012</td>\n",
       "      <td>2-3</td>\n",
       "      <td>300</td>\n",
       "      <td>304</td>\n",
       "      <td>10.1016/j.livsci.2011.10.008</td>\n",
       "      <td>9</td>\n",
       "    </tr>\n",
       "    <tr>\n",
       "      <th>3</th>\n",
       "      <td>Liliana Mahecha Ledesma</td>\n",
       "      <td>[Esperanza Prieto-Manrique, Julio Ernesto Vargas-Sánchez, Joaquin Angulo Arizala, Liliana Mahecha Ledesma]</td>\n",
       "      <td>Suplementación con aceite de girasol sobre ácidos grasos de la leche en una lechería tropical</td>\n",
       "      <td>journal article</td>\n",
       "      <td>Revista Colombiana de Ciencia Animal Recia</td>\n",
       "      <td>20274297</td>\n",
       "      <td>2016</td>\n",
       "      <td></td>\n",
       "      <td>297</td>\n",
       "      <td>309</td>\n",
       "      <td>10.24188/recia.v8.n0.2016.385</td>\n",
       "      <td>1</td>\n",
       "    </tr>\n",
       "    <tr>\n",
       "      <th>4</th>\n",
       "      <td>Liliana Mahecha Ledesma</td>\n",
       "      <td>[Wilson Barragán Hernández, Liliana Mahecha Ledesma, Yasmín Socorro Cajas-Girón]</td>\n",
       "      <td>Efecto de sistemas silvopastoriles en la producción y composición de la leche bajo condiciones del valle medio del rio sinú, Colombia</td>\n",
       "      <td>journal article</td>\n",
       "      <td>Revista Colombiana de Ciencia Animal Recia</td>\n",
       "      <td>20274297</td>\n",
       "      <td>2016</td>\n",
       "      <td>2</td>\n",
       "      <td>187</td>\n",
       "      <td>196</td>\n",
       "      <td>10.24188/recia.v8.n2.2016.186</td>\n",
       "      <td>5</td>\n",
       "    </tr>\n",
       "  </tbody>\n",
       "</table>\n",
       "</div>"
      ],
      "text/plain": [
       "            autor_maestría  \\\n",
       "0  Liliana Mahecha Ledesma   \n",
       "1  Liliana Mahecha Ledesma   \n",
       "2  Liliana Mahecha Ledesma   \n",
       "3  Liliana Mahecha Ledesma   \n",
       "4  Liliana Mahecha Ledesma   \n",
       "\n",
       "                                                                                                                                                authors  \\\n",
       "0                                    [Joaquin Angulo Arizala, Luis Miguel Gómez, Liliana Mahecha Ledesma, Estefanía Mejía, Javier Henao, Carolina Mesa]   \n",
       "1                                                                                           [Juan Londoño C, Liliana Mahecha Ledesma, Joaquín Angulo A]   \n",
       "2  [Joaquin Angulo Arizala, B. Hiller, E. Albrecht, Martha Eufemia Olivera Angel, Liliana Mahecha Ledesma, G. Nuernberg, D. Dannenberger, K. Nuernberg]   \n",
       "3                                            [Esperanza Prieto-Manrique, Julio Ernesto Vargas-Sánchez, Joaquin Angulo Arizala, Liliana Mahecha Ledesma]   \n",
       "4                                                                      [Wilson Barragán Hernández, Liliana Mahecha Ledesma, Yasmín Socorro Cajas-Girón]   \n",
       "\n",
       "                                                                                                                                                       title  \\\n",
       "0                     Calf’s sex, parity and the hour of harvest after calving affect colostrum quality of dairy cows grazing under high tropical conditions   \n",
       "1                                            Desempeño agronómico y valor nutritivo de Tithonia diversifolia (Hemsl.) A Gray para la alimentación de bovinos   \n",
       "2  Effect of different dietary fats on protein expression of sterol regulatory element-binding protein 1 (SREBP-1) in mammary gland tissue of lactating cows   \n",
       "3                                                              Suplementación con aceite de girasol sobre ácidos grasos de la leche en una lechería tropical   \n",
       "4                      Efecto de sistemas silvopastoriles en la producción y composición de la leche bajo condiciones del valle medio del rio sinú, Colombia   \n",
       "\n",
       "  publication_type                                     journal      issn  \\\n",
       "0  journal article       Tropical Animal Health and Production  00494747   \n",
       "1  journal article  Revista Colombiana de Ciencia Animal Recia  20274297   \n",
       "2          article                           LIVESTOCK SCIENCE  18711413   \n",
       "3  journal article  Revista Colombiana de Ciencia Animal Recia  20274297   \n",
       "4  journal article  Revista Colombiana de Ciencia Animal Recia  20274297   \n",
       "\n",
       "  year_published issue start_page end_page                            doi  \\\n",
       "0           2015     4        699      705      10.1007/s11250-015-0781-z   \n",
       "1           2019     1                      10.24188/recia.v0.n0.2019.693   \n",
       "2           2012   2-3        300      304   10.1016/j.livsci.2011.10.008   \n",
       "3           2016              297      309  10.24188/recia.v8.n0.2016.385   \n",
       "4           2016     2        187      196  10.24188/recia.v8.n2.2016.186   \n",
       "\n",
       "   citations_count  \n",
       "0               13  \n",
       "1                5  \n",
       "2                9  \n",
       "3                1  \n",
       "4                5  "
      ]
     },
     "execution_count": 206,
     "metadata": {},
     "output_type": "execute_result"
    }
   ],
   "source": [
    "das[:5]"
   ]
  },
  {
   "cell_type": "code",
   "execution_count": 207,
   "metadata": {},
   "outputs": [
    {
     "data": {
      "text/plain": [
       "182"
      ]
     },
     "execution_count": 207,
     "metadata": {},
     "output_type": "execute_result"
    }
   ],
   "source": [
    "das[das['year_published']>2015].shape[0]"
   ]
  },
  {
   "cell_type": "code",
   "execution_count": 208,
   "metadata": {},
   "outputs": [
    {
     "data": {
      "text/plain": [
       "575"
      ]
     },
     "execution_count": 208,
     "metadata": {},
     "output_type": "execute_result"
    }
   ],
   "source": [
    "das[das['year_published']>2015].citations_count.sum()"
   ]
  },
  {
   "cell_type": "code",
   "execution_count": 209,
   "metadata": {},
   "outputs": [
    {
     "data": {
      "text/plain": [
       "1.8370607028753994"
      ]
     },
     "execution_count": 209,
     "metadata": {},
     "output_type": "execute_result"
    }
   ],
   "source": [
    "das[das['year_published']>2015].citations_count.sum()/das[das['year_published']>2012].shape[0]"
   ]
  },
  {
   "cell_type": "code",
   "execution_count": 210,
   "metadata": {},
   "outputs": [
    {
     "data": {
      "text/plain": [
       "7.8514376996805115"
      ]
     },
     "execution_count": 210,
     "metadata": {},
     "output_type": "execute_result"
    }
   ],
   "source": [
    "das.citations_count.sum()/das.shape[0]"
   ]
  },
  {
   "cell_type": "code",
   "execution_count": 211,
   "metadata": {},
   "outputs": [
    {
     "data": {
      "text/plain": [
       "0.8642611683848798"
      ]
     },
     "execution_count": 211,
     "metadata": {},
     "output_type": "execute_result"
    }
   ],
   "source": [
    "503/582"
   ]
  },
  {
   "cell_type": "markdown",
   "metadata": {},
   "source": [
    "API Author"
   ]
  },
  {
   "cell_type": "code",
   "execution_count": 13,
   "metadata": {},
   "outputs": [],
   "source": [
    "url=f'http://clustercien.udea.edu.co:8888/api/authors?apikey={key}&data=production&id=5fc66fdfb246cc0887190aa6&max=100&page=1'"
   ]
  },
  {
   "cell_type": "code",
   "execution_count": 14,
   "metadata": {},
   "outputs": [],
   "source": [
    "import pandas as pd"
   ]
  },
  {
   "cell_type": "code",
   "execution_count": 15,
   "metadata": {},
   "outputs": [],
   "source": [
    "import requests"
   ]
  },
  {
   "cell_type": "code",
   "execution_count": 16,
   "metadata": {},
   "outputs": [],
   "source": [
    "r=requests.get(url)"
   ]
  },
  {
   "cell_type": "markdown",
   "metadata": {},
   "source": []
  },
  {
   "cell_type": "code",
   "execution_count": 19,
   "metadata": {},
   "outputs": [
    {
     "data": {
      "text/html": [
       "<div>\n",
       "<style scoped>\n",
       "    .dataframe tbody tr th:only-of-type {\n",
       "        vertical-align: middle;\n",
       "    }\n",
       "\n",
       "    .dataframe tbody tr th {\n",
       "        vertical-align: top;\n",
       "    }\n",
       "\n",
       "    .dataframe thead th {\n",
       "        text-align: right;\n",
       "    }\n",
       "</style>\n",
       "<table border=\"1\" class=\"dataframe\">\n",
       "  <thead>\n",
       "    <tr style=\"text-align: right;\">\n",
       "      <th></th>\n",
       "      <th>urls</th>\n",
       "      <th>source_checked</th>\n",
       "      <th>keywords</th>\n",
       "      <th>open_access_status</th>\n",
       "      <th>citations_count</th>\n",
       "      <th>topics</th>\n",
       "      <th>publication_type</th>\n",
       "      <th>end_page</th>\n",
       "      <th>author_count</th>\n",
       "      <th>date_published</th>\n",
       "      <th>...</th>\n",
       "      <th>volume</th>\n",
       "      <th>source</th>\n",
       "      <th>references</th>\n",
       "      <th>issue</th>\n",
       "      <th>year_published</th>\n",
       "      <th>bibtex</th>\n",
       "      <th>citations_link</th>\n",
       "      <th>languages</th>\n",
       "      <th>_id</th>\n",
       "      <th>references_count</th>\n",
       "    </tr>\n",
       "  </thead>\n",
       "  <tbody>\n",
       "    <tr>\n",
       "      <th>0</th>\n",
       "      <td>[{'url': 'https://www.scopus.com/inward/record...</td>\n",
       "      <td>[{'source': 'lens', 'ts': 1617579319}, {'sourc...</td>\n",
       "      <td>[]</td>\n",
       "      <td>green</td>\n",
       "      <td>19</td>\n",
       "      <td>[{'source': 'lens', 'topics': ['Particle physi...</td>\n",
       "      <td>journal article</td>\n",
       "      <td></td>\n",
       "      <td>4</td>\n",
       "      <td>1471392000</td>\n",
       "      <td>...</td>\n",
       "      <td>94</td>\n",
       "      <td>{'subjects': {}, 'institution_id': '', 'source...</td>\n",
       "      <td>[]</td>\n",
       "      <td>3</td>\n",
       "      <td>2016</td>\n",
       "      <td>@article{von2016radiative,\\n  title={Radiative...</td>\n",
       "      <td>/scholar?cites=8886486850903082704&amp;as_sdt=2005...</td>\n",
       "      <td>[en]</td>\n",
       "      <td>606a4d38aa884b9a156300f1</td>\n",
       "      <td>99</td>\n",
       "    </tr>\n",
       "  </tbody>\n",
       "</table>\n",
       "<p>1 rows × 31 columns</p>\n",
       "</div>"
      ],
      "text/plain": [
       "                                                urls  \\\n",
       "0  [{'url': 'https://www.scopus.com/inward/record...   \n",
       "\n",
       "                                      source_checked keywords  \\\n",
       "0  [{'source': 'lens', 'ts': 1617579319}, {'sourc...       []   \n",
       "\n",
       "  open_access_status  citations_count  \\\n",
       "0              green               19   \n",
       "\n",
       "                                              topics publication_type  \\\n",
       "0  [{'source': 'lens', 'topics': ['Particle physi...  journal article   \n",
       "\n",
       "  end_page  author_count date_published  ... volume  \\\n",
       "0                      4     1471392000  ...     94   \n",
       "\n",
       "                                              source references issue  \\\n",
       "0  {'subjects': {}, 'institution_id': '', 'source...         []     3   \n",
       "\n",
       "  year_published                                             bibtex  \\\n",
       "0           2016  @article{von2016radiative,\\n  title={Radiative...   \n",
       "\n",
       "                                      citations_link languages  \\\n",
       "0  /scholar?cites=8886486850903082704&as_sdt=2005...      [en]   \n",
       "\n",
       "                        _id  references_count  \n",
       "0  606a4d38aa884b9a156300f1                99  \n",
       "\n",
       "[1 rows x 31 columns]"
      ]
     },
     "execution_count": 19,
     "metadata": {},
     "output_type": "execute_result"
    }
   ],
   "source": [
    "pd.DataFrame(r.json()['data'])[:1]"
   ]
  },
  {
   "cell_type": "code",
   "execution_count": 23,
   "metadata": {},
   "outputs": [],
   "source": [
    "author='Cesar Augusto Barrero Meneses'\n",
    "da=df[df.authors.apply(lambda l: True in [unidecode(d.get('full_name'))==unidecode(author) for d in l ] )].reset_index(drop=True)"
   ]
  },
  {
   "cell_type": "code",
   "execution_count": 26,
   "metadata": {},
   "outputs": [
    {
     "data": {
      "text/plain": [
       "[{'first_names': 'Cesar Augusto',\n",
       "  'keywords': ['mossbauer effect',\n",
       "   'medicines',\n",
       "   'iron sulfate',\n",
       "   'iron fumarate',\n",
       "   'recoilless f-fraction',\n",
       "   'mössbauer effect',\n",
       "   'nano-structured materials',\n",
       "   'mechanochemical processing',\n",
       "   'x-ray diffraction',\n",
       "   'mossbauer spectrometry',\n",
       "   'kinematical modeling',\n",
       "   'mössbauer spectrometry',\n",
       "   'controlled nanoparticle synthesis',\n",
       "   'core-shell nanoparticles',\n",
       "   'superparamagnetic cores',\n",
       "   'nanostructural characterization',\n",
       "   'inverted organic solar cells',\n",
       "   'photocurrent enhancement',\n",
       "   'magnetite',\n",
       "   'synthesis',\n",
       "   'cr',\n",
       "   'cu',\n",
       "   'mechanical alloying',\n",
       "   'mossbauer',\n",
       "   'femncu',\n",
       "   'mössbauer',\n",
       "   'rust converters',\n",
       "   'corrosion',\n",
       "   'mossbauer spectroscopy',\n",
       "   'tannates',\n",
       "   'phosphates',\n",
       "   'mössbauer spectroscopy',\n",
       "   'quadrupole interaction',\n",
       "   'al-goethite',\n",
       "   'electric field gradient',\n",
       "   'goethite',\n",
       "   'weathering steels',\n",
       "   'particle size',\n",
       "   'corrosion rate',\n",
       "   'chloride ions',\n",
       "   'maghemite',\n",
       "   'haematite',\n",
       "   'hematite',\n",
       "   'planetary ball milling',\n",
       "   'aluminum',\n",
       "   'titanium',\n",
       "   'akaganeite',\n",
       "   'steels',\n",
       "   'rust',\n",
       "   'chloride',\n",
       "   'dry-wet cycles',\n",
       "   'a. chloride',\n",
       "   'a. rust',\n",
       "   'a. steels',\n",
       "   'b. dry-wet cycles',\n",
       "   'dilute magnetic semiconductor (dms)',\n",
       "   'fe doped sno2',\n",
       "   'sol gel method',\n",
       "   'cr-substituted hematites',\n",
       "   'rietveld refinement',\n",
       "   'mean coherence path dimensions',\n",
       "   'metallic ions',\n",
       "   'mossbauerspectrometry',\n",
       "   'corrosion and protection',\n",
       "   'raman and infrared spectroscopy',\n",
       "   'fe2o3 and tio2 mixed oxides',\n",
       "   'ball milling',\n",
       "   'sn-119 mossbauer spectroscopy',\n",
       "   'sb and fe doped tin dioxide',\n",
       "   'vacancy',\n",
       "   'ferromagnetism',\n",
       "   '119sn mössbauer spectroscopy',\n",
       "   'doped hematite',\n",
       "   'neel temperature',\n",
       "   'morin transition',\n",
       "   'néel temperature',\n",
       "   'ni-doped hematite',\n",
       "   'magnetic properties',\n",
       "   'morín transition',\n",
       "   'weathering steel',\n",
       "   'xrd',\n",
       "   'total immersion test',\n",
       "   'a. weathering steel',\n",
       "   'b. mössbauer spectrometry',\n",
       "   'b. xrd',\n",
       "   'c. total immersion test',\n",
       "   'magnetism',\n",
       "   'cems',\n",
       "   'iron oxides',\n",
       "   'thin films',\n",
       "   'atmospheric corrosion',\n",
       "   'dry-wet cyclical process',\n",
       "   'water content',\n",
       "   'crystallinity',\n",
       "   'surface area',\n",
       "   'nanoparticle',\n",
       "   'relative recoilless f-fractions',\n",
       "   'a. akaganeite',\n",
       "   'a. nanoparticle',\n",
       "   'a. relative recoilless f-fractions',\n",
       "   'c. mössbauer spectrometry',\n",
       "   'steel',\n",
       "   'raman spectroscopy',\n",
       "   'ir spectroscopy',\n",
       "   'a. steel',\n",
       "   'b. ir spectroscopy',\n",
       "   'b. mössbauer spectroscopy',\n",
       "   'b. raman spectroscopy',\n",
       "   'b. x-ray diffraction',\n",
       "   'c. rust',\n",
       "   'fe and sno2',\n",
       "   'sol-gel method',\n",
       "   'thermal treatment',\n",
       "   'iron tannates and phosphates',\n",
       "   'spinel phases',\n",
       "   'total immersion',\n",
       "   'total immersion corrosion',\n",
       "   'magnetization curves',\n",
       "   'mossbauer spectrum',\n",
       "   'magnetic structure',\n",
       "   'mössbauer spectrum',\n",
       "   'co doped zno',\n",
       "   'optical absorption',\n",
       "   'epr',\n",
       "   'xps',\n",
       "   'room temperature ferromagnetism',\n",
       "   'orthoferrite',\n",
       "   'relative f-factor',\n",
       "   'self-combustion'],\n",
       "  '_id': '5fc662f1b246cc0887190aa2',\n",
       "  'last_names': 'Barrero Meneses',\n",
       "  'branches': [{'type': 'faculty',\n",
       "    'name': 'Facultad de Ciencias Exactas y Naturales',\n",
       "    'id': '602c50d1fd74967db0663833'},\n",
       "   {'type': 'department',\n",
       "    'name': 'Instituto de Física',\n",
       "    'id': '602c50f9fd74967db0663859'},\n",
       "   {'type': 'group',\n",
       "    'name': 'Instrumentación Científica y Microelectrónica',\n",
       "    'id': '602c510ffd74967db066393c'}],\n",
       "  'full_name': 'Cesar Augusto Barrero Meneses',\n",
       "  'external_ids': [{'value': '57200376986', 'source': 'scopus'},\n",
       "   {'value': 'q33vTJ0AAAAJ', 'source': 'scholar'},\n",
       "   {'value': '56997454500', 'source': 'scopus'},\n",
       "   {'value': '0000-0001-7799-9105', 'source': 'orcid'},\n",
       "   {'value': '0000-0002-2789-1937', 'source': 'orcid'},\n",
       "   {'value': '57212372787', 'source': 'scopus'},\n",
       "   {'value': 'hXydSngAAAAJ', 'source': 'scholar'},\n",
       "   {'value': 'Xd2B7FkAAAAJ', 'source': 'scholar'},\n",
       "   {'value': '57189694985', 'source': 'scopus'},\n",
       "   {'value': 'MPiyrZMAAAAJ', 'source': 'scholar'}],\n",
       "  'initials': 'CA',\n",
       "  'affiliations': [{'addresses': [{'lat': 6.267417,\n",
       "      'state': None,\n",
       "      'lng': -75.568389,\n",
       "      'postcode': '',\n",
       "      'line_2': '',\n",
       "      'country': 'Colombia',\n",
       "      'country_code': 'CO',\n",
       "      'line_3': None,\n",
       "      'city': 'Medellín',\n",
       "      'primary': False,\n",
       "      'line_1': '',\n",
       "      'state_code': ''}],\n",
       "    'external_urls': [{'url': 'http://en.wikipedia.org/wiki/University_of_Antioquia',\n",
       "      'source': 'wikipedia'},\n",
       "     {'url': 'http://www.udea.edu.co/portal/page/portal/EnglishPortal/EnglishPortal',\n",
       "      'source': 'site'}],\n",
       "    'relationships': [{'type': 'Related',\n",
       "      'name': 'Hôpital Saint-Vincent-de-Paul',\n",
       "      'id': '',\n",
       "      'external_ids': [{'value': 'grid.413348.9', 'source': 'grid'}]}],\n",
       "    'external_ids': [{'value': 'grid.412881.6', 'source': 'grid'},\n",
       "     {'value': '0000 0000 8882 5269', 'source': 'isni'},\n",
       "     {'value': '501100005278', 'source': 'fundref'},\n",
       "     {'value': '2696975', 'source': 'orgref'},\n",
       "     {'value': 'Q1258413', 'source': 'wikidata'},\n",
       "     {'value': 'https://ror.org/03bp5hc83', 'source': 'ror'}],\n",
       "    '_id': '60120afa4749273de6161883',\n",
       "    'types': ['Education'],\n",
       "    'abbreviations': [],\n",
       "    'name': 'Universidad de Antioquia',\n",
       "    'logo_url': 'https://upload.wikimedia.org/wikipedia/commons/f/fb/Escudo-UdeA.svg',\n",
       "    'branches': [{'addresses': [{'lat': 6.267417,\n",
       "        'state': None,\n",
       "        'lng': -75.568389,\n",
       "        'email': '',\n",
       "        'postcode': '',\n",
       "        'line_2': '',\n",
       "        'country': 'Colombia',\n",
       "        'country_code': 'CO',\n",
       "        'line_3': None,\n",
       "        'city': 'Medellín',\n",
       "        'primary': False,\n",
       "        'line_1': '',\n",
       "        'state_code': ''}],\n",
       "      'subjects': [],\n",
       "      'external_ids': [],\n",
       "      '_id': '602c50d1fd74967db0663833',\n",
       "      'type': 'faculty',\n",
       "      'abbreviations': ['FCEN'],\n",
       "      'external_urls': [{'url': 'http://www.udea.edu.co/wps/portal/udea/web/inicio/unidades-academicas/ciencias-exactas-naturales',\n",
       "        'source': 'website'}],\n",
       "      'name': 'Facultad de Ciencias Exactas y Naturales',\n",
       "      'relations': [{'type': 'university',\n",
       "        'id': '60120afa4749273de6161883',\n",
       "        'name': 'University of Antioquia',\n",
       "        'collection': 'institutions'}],\n",
       "      'keywords': []},\n",
       "     {'addresses': [{'lat': 6.267417,\n",
       "        'state': None,\n",
       "        'lng': -75.568389,\n",
       "        'email': '',\n",
       "        'postcode': '',\n",
       "        'line_2': '',\n",
       "        'country': 'Colombia',\n",
       "        'country_code': 'CO',\n",
       "        'line_3': None,\n",
       "        'city': 'Medellín',\n",
       "        'primary': False,\n",
       "        'line_1': '',\n",
       "        'state_code': ''}],\n",
       "      'subjects': [],\n",
       "      'external_ids': [],\n",
       "      '_id': '602c50f9fd74967db0663859',\n",
       "      'type': 'department',\n",
       "      'abbreviations': [],\n",
       "      'external_urls': [],\n",
       "      'name': 'Instituto de Física',\n",
       "      'relations': [{'type': 'university',\n",
       "        'id': '60120afa4749273de6161883',\n",
       "        'name': 'University of Antioquia',\n",
       "        'collection': 'institutions'}],\n",
       "      'keywords': []},\n",
       "     {'addresses': [{'lat': 6.267417,\n",
       "        'state': None,\n",
       "        'lng': -75.568389,\n",
       "        'email': 'grupoinstrumentacioncym@udea.edu.co',\n",
       "        'postcode': '',\n",
       "        'line_2': '',\n",
       "        'country': 'Colombia',\n",
       "        'country_code': 'CO',\n",
       "        'line_3': None,\n",
       "        'city': 'Medellín',\n",
       "        'primary': False,\n",
       "        'line_1': '',\n",
       "        'state_code': ''}],\n",
       "      'subjects': [{'subjects': ['ciencias naturales'], 'source': 'area_ocde'},\n",
       "       {'subjects': ['ciencias físicas'], 'source': 'subarea_ocde'},\n",
       "       {'subjects': ['ciencias exactas y naturales'], 'source': 'udea'},\n",
       "       {'subjects': ['instrumentación científica',\n",
       "         'sistemas dinámicamente reconfigurables',\n",
       "         'sistemas microeletromecánicos. mems y nems'],\n",
       "        'source': 'gruplac'}],\n",
       "      'external_ids': [{'id': 'COL0012589', 'source': 'colciencias'}],\n",
       "      '_id': '602c510ffd74967db066393c',\n",
       "      'type': 'group',\n",
       "      'abbreviations': [],\n",
       "      'external_urls': [{'url': 'https://scienti.colciencias.gov.co/gruplac/jsp/visualiza/visualizagr.jsp?nro=00000000001675',\n",
       "        'source': 'gruplac'}],\n",
       "      'name': 'Instrumentación Científica y Microelectrónica',\n",
       "      'relations': [{'type': 'university',\n",
       "        'id': '60120afa4749273de6161883',\n",
       "        'name': 'University of Antioquia',\n",
       "        'collection': 'institutions'}],\n",
       "      'keywords': []}]}],\n",
       "  'updated': 1619420836},\n",
       " {'first_names': 'Karen Edilma',\n",
       "  'keywords': ['mossbauer effect',\n",
       "   'medicines',\n",
       "   'iron sulfate',\n",
       "   'iron fumarate',\n",
       "   'recoilless f-fraction',\n",
       "   'mössbauer effect',\n",
       "   'akaganeite',\n",
       "   'nanoparticle',\n",
       "   'relative recoilless f-fractions',\n",
       "   'mossbauer spectrometry',\n",
       "   'a. akaganeite',\n",
       "   'a. nanoparticle',\n",
       "   'a. relative recoilless f-fractions',\n",
       "   'c. mössbauer spectrometry',\n",
       "   'aluminum',\n",
       "   'titanium',\n",
       "   'mössbauer spectrometry',\n",
       "   'steels',\n",
       "   'rust',\n",
       "   'chloride',\n",
       "   'dry-wet cycles',\n",
       "   'a. chloride',\n",
       "   'a. rust',\n",
       "   'a. steels',\n",
       "   'b. dry-wet cycles',\n",
       "   'metallic ions',\n",
       "   'mossbauerspectrometry',\n",
       "   'weathering steel',\n",
       "   'xrd',\n",
       "   'total immersion test',\n",
       "   'a. weathering steel',\n",
       "   'b. mössbauer spectrometry',\n",
       "   'b. xrd',\n",
       "   'c. total immersion test',\n",
       "   'corrosion rate',\n",
       "   'x-ray diffraction',\n",
       "   'mossbauer spectroscopy',\n",
       "   'chloride ions',\n",
       "   'mössbauer spectroscopy',\n",
       "   'magnetism',\n",
       "   'atmospheric corrosion',\n",
       "   'dry-wet cyclical process',\n",
       "   'steel',\n",
       "   'raman spectroscopy',\n",
       "   'ir spectroscopy',\n",
       "   'a. steel',\n",
       "   'b. ir spectroscopy',\n",
       "   'b. mössbauer spectroscopy',\n",
       "   'b. raman spectroscopy',\n",
       "   'b. x-ray diffraction',\n",
       "   'c. rust',\n",
       "   'rust converters',\n",
       "   'iron tannates and phosphates',\n",
       "   'spinel phases',\n",
       "   'total immersion',\n",
       "   'total immersion corrosion',\n",
       "   'mossbauer spectrum',\n",
       "   'magnetic structure',\n",
       "   'mössbauer spectrum'],\n",
       "  '_id': '5fc736199a7d07412f6cd383',\n",
       "  'last_names': 'Garcia Tellez',\n",
       "  'branches': [{'type': 'faculty',\n",
       "    'name': 'Facultad de Ciencias Exactas y Naturales',\n",
       "    'id': '602c50d1fd74967db0663833'},\n",
       "   {'type': 'department',\n",
       "    'name': 'Instituto de Química',\n",
       "    'id': '602c50f9fd74967db066385b'},\n",
       "   {'type': 'group',\n",
       "    'name': 'Grupo de Estado Sólido',\n",
       "    'id': '602c510ffd74967db06638e5'}],\n",
       "  'full_name': 'Karen Edilma Garcia Tellez',\n",
       "  'external_ids': [{'value': '7004478935', 'source': 'scopus'},\n",
       "   {'value': '0000-0002-1848-1813', 'source': 'orcid'}],\n",
       "  'initials': 'KE',\n",
       "  'affiliations': [{'addresses': [{'lat': 6.267417,\n",
       "      'state': None,\n",
       "      'lng': -75.568389,\n",
       "      'postcode': '',\n",
       "      'line_2': '',\n",
       "      'country': 'Colombia',\n",
       "      'country_code': 'CO',\n",
       "      'line_3': None,\n",
       "      'city': 'Medellín',\n",
       "      'primary': False,\n",
       "      'line_1': '',\n",
       "      'state_code': ''}],\n",
       "    'external_urls': [{'url': 'http://en.wikipedia.org/wiki/University_of_Antioquia',\n",
       "      'source': 'wikipedia'},\n",
       "     {'url': 'http://www.udea.edu.co/portal/page/portal/EnglishPortal/EnglishPortal',\n",
       "      'source': 'site'}],\n",
       "    'relationships': [{'type': 'Related',\n",
       "      'name': 'Hôpital Saint-Vincent-de-Paul',\n",
       "      'id': '',\n",
       "      'external_ids': [{'value': 'grid.413348.9', 'source': 'grid'}]}],\n",
       "    'external_ids': [{'value': 'grid.412881.6', 'source': 'grid'},\n",
       "     {'value': '0000 0000 8882 5269', 'source': 'isni'},\n",
       "     {'value': '501100005278', 'source': 'fundref'},\n",
       "     {'value': '2696975', 'source': 'orgref'},\n",
       "     {'value': 'Q1258413', 'source': 'wikidata'},\n",
       "     {'value': 'https://ror.org/03bp5hc83', 'source': 'ror'}],\n",
       "    '_id': '60120afa4749273de6161883',\n",
       "    'types': ['Education'],\n",
       "    'abbreviations': [],\n",
       "    'name': 'Universidad de Antioquia',\n",
       "    'logo_url': 'https://upload.wikimedia.org/wikipedia/commons/f/fb/Escudo-UdeA.svg',\n",
       "    'branches': [{'addresses': [{'lat': 6.267417,\n",
       "        'state': None,\n",
       "        'lng': -75.568389,\n",
       "        'email': '',\n",
       "        'postcode': '',\n",
       "        'line_2': '',\n",
       "        'country': 'Colombia',\n",
       "        'country_code': 'CO',\n",
       "        'line_3': None,\n",
       "        'city': 'Medellín',\n",
       "        'primary': False,\n",
       "        'line_1': '',\n",
       "        'state_code': ''}],\n",
       "      'subjects': [],\n",
       "      'external_ids': [],\n",
       "      '_id': '602c50d1fd74967db0663833',\n",
       "      'type': 'faculty',\n",
       "      'abbreviations': ['FCEN'],\n",
       "      'external_urls': [{'url': 'http://www.udea.edu.co/wps/portal/udea/web/inicio/unidades-academicas/ciencias-exactas-naturales',\n",
       "        'source': 'website'}],\n",
       "      'name': 'Facultad de Ciencias Exactas y Naturales',\n",
       "      'relations': [{'type': 'university',\n",
       "        'id': '60120afa4749273de6161883',\n",
       "        'name': 'University of Antioquia',\n",
       "        'collection': 'institutions'}],\n",
       "      'keywords': []},\n",
       "     {'addresses': [{'lat': 6.267417,\n",
       "        'state': None,\n",
       "        'lng': -75.568389,\n",
       "        'email': '',\n",
       "        'postcode': '',\n",
       "        'line_2': '',\n",
       "        'country': 'Colombia',\n",
       "        'country_code': 'CO',\n",
       "        'line_3': None,\n",
       "        'city': 'Medellín',\n",
       "        'primary': False,\n",
       "        'line_1': '',\n",
       "        'state_code': ''}],\n",
       "      'subjects': [],\n",
       "      'external_ids': [],\n",
       "      '_id': '602c50f9fd74967db066385b',\n",
       "      'type': 'department',\n",
       "      'abbreviations': [],\n",
       "      'external_urls': [],\n",
       "      'name': 'Instituto de Química',\n",
       "      'relations': [{'type': 'university',\n",
       "        'id': '60120afa4749273de6161883',\n",
       "        'name': 'University of Antioquia',\n",
       "        'collection': 'institutions'}],\n",
       "      'keywords': []},\n",
       "     {'addresses': [{'lat': 6.267417,\n",
       "        'state': None,\n",
       "        'lng': -75.568389,\n",
       "        'email': 'grupometodoanalitico@udea.edu.co',\n",
       "        'postcode': '',\n",
       "        'line_2': '',\n",
       "        'country': 'Colombia',\n",
       "        'country_code': 'CO',\n",
       "        'line_3': None,\n",
       "        'city': 'Medellín',\n",
       "        'primary': False,\n",
       "        'line_1': '',\n",
       "        'state_code': ''}],\n",
       "      'subjects': [{'subjects': ['ciencias naturales'], 'source': 'area_ocde'},\n",
       "       {'subjects': ['ciencias físicas'], 'source': 'subarea_ocde'},\n",
       "       {'subjects': ['ciencias exactas y naturales'], 'source': 'udea'},\n",
       "       {'subjects': ['espectroscopía mössbauer ',\n",
       "         'materiales nanoestructurados. ',\n",
       "         'películas delgadas'],\n",
       "        'source': 'gruplac'}],\n",
       "      'external_ids': [{'id': 'COL0008138', 'source': 'colciencias'}],\n",
       "      '_id': '602c510ffd74967db06638e5',\n",
       "      'type': 'group',\n",
       "      'abbreviations': [],\n",
       "      'external_urls': [{'url': 'http://www.udea.edu.co/wps/portal/udea/web/inicio/investigacion/grupos-investigacion/ciencias-naturales-exactas/ges',\n",
       "        'source': 'website'},\n",
       "       {'url': 'https://scienti.colciencias.gov.co/gruplac/jsp/visualiza/visualizagr.jsp?nro=00000000001677',\n",
       "        'source': 'gruplac'}],\n",
       "      'name': 'Grupo de Estado Sólido',\n",
       "      'relations': [{'type': 'university',\n",
       "        'id': '60120afa4749273de6161883',\n",
       "        'name': 'University of Antioquia',\n",
       "        'collection': 'institutions'}],\n",
       "      'keywords': []}]}],\n",
       "  'updated': 1617588807},\n",
       " {'first_names': 'Alvaro Luis',\n",
       "  'keywords': ['dirac point effects',\n",
       "   'graphene superlattice',\n",
       "   'magneto-optical absorption',\n",
       "   'selection rules',\n",
       "   'binding energy',\n",
       "   'donor impurity',\n",
       "   'ellipsoidal quantum dot',\n",
       "   'finite element method',\n",
       "   'gaas',\n",
       "   '71.70.di',\n",
       "   '75.70.cn',\n",
       "   '78.67.pt',\n",
       "   '81.05.ue',\n",
       "   'multiple-step quantum wells',\n",
       "   'linear optical properties',\n",
       "   'second and third harmonic generation',\n",
       "   'terahertz radiation',\n",
       "   'intense laser field',\n",
       "   'electric and magnetic fields',\n",
       "   'nanoscale',\n",
       "   'symmetry',\n",
       "   'quantum dots',\n",
       "   'excited levels',\n",
       "   'dipole matrix elements',\n",
       "   'oscillator strength',\n",
       "   'quasi periodic graphene superlattice',\n",
       "   'magnetic field effects',\n",
       "   '2d quantum ring',\n",
       "   'finite confinement',\n",
       "   'nonlinear optical properties',\n",
       "   'shallow impurity',\n",
       "   'excitons',\n",
       "   'electric field',\n",
       "   'quantum well',\n",
       "   'sige',\n",
       "   'terahertz',\n",
       "   'impurity binding energy',\n",
       "   'nonlinear optics',\n",
       "   'intersubband transitions',\n",
       "   'multibarrier structure',\n",
       "   'quantum well wires',\n",
       "   'asymmetric single quantum well',\n",
       "   'semiconductors',\n",
       "   'optical properties',\n",
       "   'heterostructures',\n",
       "   'quantum wells',\n",
       "   'self-consistent calculation',\n",
       "   'delta-doping',\n",
       "   'donor impurities',\n",
       "   'optical absorption',\n",
       "   'quantum rings',\n",
       "   'refractive index',\n",
       "   'dilute nitride',\n",
       "   'electron raman scattering',\n",
       "   'woods-saxon potential quantum well',\n",
       "   'optical transitions',\n",
       "   'terahertz modulator',\n",
       "   'delta doping',\n",
       "   'intersubband absorption',\n",
       "   'coupled circular quantum dots',\n",
       "   'electronic states',\n",
       "   'electric field effect',\n",
       "   'optical response',\n",
       "   'gaas quantum rings',\n",
       "   'impurity related nonlinear optical',\n",
       "   'properties',\n",
       "   'delta-like confinement potential',\n",
       "   'impurity related nonlinear optical properties',\n",
       "   'magnetotactic bacteria',\n",
       "   'biogenic magnetite',\n",
       "   'single domain',\n",
       "   'nanocrystals',\n",
       "   'tem/edx',\n",
       "   'dilute nitrogen',\n",
       "   'photoluminescence',\n",
       "   'ftir',\n",
       "   'magnetic nanoparticles',\n",
       "   'mössbauer spectroscopy',\n",
       "   'sodiumpolyacrylate',\n",
       "   'tem',\n",
       "   'thermo magnetic measurements',\n",
       "   'absorption coefficient',\n",
       "   'hydrostatic pressure',\n",
       "   'magnetotactic bacteria (mtb)',\n",
       "   'magnetosome',\n",
       "   'microcosm',\n",
       "   'estuary',\n",
       "   'quantum dot',\n",
       "   'applied electric field',\n",
       "   'applied magnetic field',\n",
       "   'mossbauer spectroscopy',\n",
       "   'magnetic particles',\n",
       "   'superparamagnetic',\n",
       "   'nanoparticles',\n",
       "   'dynamic light scattering',\n",
       "   'graded quantum well',\n",
       "   'nonlinear optical property',\n",
       "   'impurity',\n",
       "   'photoionization',\n",
       "   'steels',\n",
       "   'rust',\n",
       "   'chloride',\n",
       "   'dry-wet cycles',\n",
       "   'a. chloride',\n",
       "   'a. rust',\n",
       "   'a. steels',\n",
       "   'b. dry-wet cycles',\n",
       "   'magnetite',\n",
       "   'divalent copper',\n",
       "   'morphology',\n",
       "   'squid magnetometry',\n",
       "   'cebelcor',\n",
       "   'equivalent circuit of warburg',\n",
       "   'weathering steel',\n",
       "   'thin films',\n",
       "   'iron oxides',\n",
       "   'mossbauer effect',\n",
       "   'magnetization curves',\n",
       "   'mössbauer effect',\n",
       "   'akaganeite',\n",
       "   'mossbauer spectrum',\n",
       "   'magnetic structure',\n",
       "   'mössbauer spectrum',\n",
       "   'aluminum',\n",
       "   'titanium',\n",
       "   'mossbauer spectrometry',\n",
       "   'mössbauer spectrometry',\n",
       "   'superlattice',\n",
       "   'exciton',\n",
       "   'absorption spectra',\n",
       "   'metallic ions',\n",
       "   'mossbauerspectrometry',\n",
       "   'double quantum well',\n",
       "   'semiconductor',\n",
       "   'xrd',\n",
       "   'total immersion test',\n",
       "   'a. weathering steel',\n",
       "   'b. mössbauer spectrometry',\n",
       "   'b. xrd',\n",
       "   'c. total immersion test',\n",
       "   'cems',\n",
       "   'hematite',\n",
       "   'atmospheric corrosion',\n",
       "   'dry-wet cyclical process',\n",
       "   'magnetism',\n",
       "   'x-ray diffraction',\n",
       "   'vacancy-solute complexes',\n",
       "   'vacancy-solute clusters',\n",
       "   'electron-positron momentum distribution',\n",
       "   'rpv steels',\n",
       "   'atomic superposition method',\n",
       "   'gaas double quantum wells',\n",
       "   'effective-mass approximation',\n",
       "   'goethite',\n",
       "   'corrosion',\n",
       "   'weathering steels',\n",
       "   'particle size',\n",
       "   'corrosion rate',\n",
       "   'chloride ions',\n",
       "   'ball-mill',\n",
       "   'thermal treatment',\n",
       "   'rust converters',\n",
       "   'tannates',\n",
       "   'phosphates',\n",
       "   'quadrupole interaction',\n",
       "   'al-goethite',\n",
       "   'electric field gradient',\n",
       "   'synthesis',\n",
       "   'cr',\n",
       "   'cu',\n",
       "   'mechanical alloying',\n",
       "   'mossbauer',\n",
       "   'femncu',\n",
       "   'mössbauer',\n",
       "   'second harmonic generation',\n",
       "   'low-alloy steel',\n",
       "   'immersion-emersion test',\n",
       "   'steel',\n",
       "   'sulfate and chloride ions'],\n",
       "  '_id': '5fc65665b246cc0887190a9e',\n",
       "  'last_names': 'Morales Aramburo',\n",
       "  'branches': [{'type': 'faculty',\n",
       "    'name': 'Facultad de Ciencias Exactas y Naturales',\n",
       "    'id': '602c50d1fd74967db0663833'},\n",
       "   {'type': 'department',\n",
       "    'name': 'Instituto de Física',\n",
       "    'id': '602c50f9fd74967db0663859'},\n",
       "   {'type': 'group',\n",
       "    'name': 'Instrumentación Científica y Microelectrónica',\n",
       "    'id': '602c510ffd74967db066393c'}],\n",
       "  'full_name': 'Alvaro Luis Morales Aramburo',\n",
       "  'external_ids': [{'value': '56224796700', 'source': 'scopus'},\n",
       "   {'value': '7202369543', 'source': 'scopus'},\n",
       "   {'value': 'dbbuFS0AAAAJ', 'source': 'scholar'},\n",
       "   {'value': '55251658900', 'source': 'scopus'},\n",
       "   {'value': '57192678192', 'source': 'scopus'},\n",
       "   {'value': '8909867900', 'source': 'scopus'},\n",
       "   {'value': 'emE-TscAAAAJ', 'source': 'scholar'},\n",
       "   {'value': '56116337700', 'source': 'scopus'},\n",
       "   {'value': '36561670400', 'source': 'scopus'}],\n",
       "  'initials': 'AL',\n",
       "  'affiliations': [{'addresses': [{'lat': 6.267417,\n",
       "      'state': None,\n",
       "      'lng': -75.568389,\n",
       "      'postcode': '',\n",
       "      'line_2': '',\n",
       "      'country': 'Colombia',\n",
       "      'country_code': 'CO',\n",
       "      'line_3': None,\n",
       "      'city': 'Medellín',\n",
       "      'primary': False,\n",
       "      'line_1': '',\n",
       "      'state_code': ''}],\n",
       "    'external_urls': [{'url': 'http://en.wikipedia.org/wiki/University_of_Antioquia',\n",
       "      'source': 'wikipedia'},\n",
       "     {'url': 'http://www.udea.edu.co/portal/page/portal/EnglishPortal/EnglishPortal',\n",
       "      'source': 'site'}],\n",
       "    'relationships': [{'type': 'Related',\n",
       "      'name': 'Hôpital Saint-Vincent-de-Paul',\n",
       "      'id': '',\n",
       "      'external_ids': [{'value': 'grid.413348.9', 'source': 'grid'}]}],\n",
       "    'external_ids': [{'value': 'grid.412881.6', 'source': 'grid'},\n",
       "     {'value': '0000 0000 8882 5269', 'source': 'isni'},\n",
       "     {'value': '501100005278', 'source': 'fundref'},\n",
       "     {'value': '2696975', 'source': 'orgref'},\n",
       "     {'value': 'Q1258413', 'source': 'wikidata'},\n",
       "     {'value': 'https://ror.org/03bp5hc83', 'source': 'ror'}],\n",
       "    '_id': '60120afa4749273de6161883',\n",
       "    'types': ['Education'],\n",
       "    'abbreviations': [],\n",
       "    'name': 'Universidad de Antioquia',\n",
       "    'logo_url': 'https://upload.wikimedia.org/wikipedia/commons/f/fb/Escudo-UdeA.svg',\n",
       "    'branches': [{'addresses': [{'lat': 6.267417,\n",
       "        'state': None,\n",
       "        'lng': -75.568389,\n",
       "        'email': '',\n",
       "        'postcode': '',\n",
       "        'line_2': '',\n",
       "        'country': 'Colombia',\n",
       "        'country_code': 'CO',\n",
       "        'line_3': None,\n",
       "        'city': 'Medellín',\n",
       "        'primary': False,\n",
       "        'line_1': '',\n",
       "        'state_code': ''}],\n",
       "      'subjects': [],\n",
       "      'external_ids': [],\n",
       "      '_id': '602c50d1fd74967db0663833',\n",
       "      'type': 'faculty',\n",
       "      'abbreviations': ['FCEN'],\n",
       "      'external_urls': [{'url': 'http://www.udea.edu.co/wps/portal/udea/web/inicio/unidades-academicas/ciencias-exactas-naturales',\n",
       "        'source': 'website'}],\n",
       "      'name': 'Facultad de Ciencias Exactas y Naturales',\n",
       "      'relations': [{'type': 'university',\n",
       "        'id': '60120afa4749273de6161883',\n",
       "        'name': 'University of Antioquia',\n",
       "        'collection': 'institutions'}],\n",
       "      'keywords': []},\n",
       "     {'addresses': [{'lat': 6.267417,\n",
       "        'state': None,\n",
       "        'lng': -75.568389,\n",
       "        'email': '',\n",
       "        'postcode': '',\n",
       "        'line_2': '',\n",
       "        'country': 'Colombia',\n",
       "        'country_code': 'CO',\n",
       "        'line_3': None,\n",
       "        'city': 'Medellín',\n",
       "        'primary': False,\n",
       "        'line_1': '',\n",
       "        'state_code': ''}],\n",
       "      'subjects': [],\n",
       "      'external_ids': [],\n",
       "      '_id': '602c50f9fd74967db0663859',\n",
       "      'type': 'department',\n",
       "      'abbreviations': [],\n",
       "      'external_urls': [],\n",
       "      'name': 'Instituto de Física',\n",
       "      'relations': [{'type': 'university',\n",
       "        'id': '60120afa4749273de6161883',\n",
       "        'name': 'University of Antioquia',\n",
       "        'collection': 'institutions'}],\n",
       "      'keywords': []},\n",
       "     {'addresses': [{'lat': 6.267417,\n",
       "        'state': None,\n",
       "        'lng': -75.568389,\n",
       "        'email': 'grupoinstrumentacioncym@udea.edu.co',\n",
       "        'postcode': '',\n",
       "        'line_2': '',\n",
       "        'country': 'Colombia',\n",
       "        'country_code': 'CO',\n",
       "        'line_3': None,\n",
       "        'city': 'Medellín',\n",
       "        'primary': False,\n",
       "        'line_1': '',\n",
       "        'state_code': ''}],\n",
       "      'subjects': [{'subjects': ['ciencias naturales'], 'source': 'area_ocde'},\n",
       "       {'subjects': ['ciencias físicas'], 'source': 'subarea_ocde'},\n",
       "       {'subjects': ['ciencias exactas y naturales'], 'source': 'udea'},\n",
       "       {'subjects': ['instrumentación científica',\n",
       "         'sistemas dinámicamente reconfigurables',\n",
       "         'sistemas microeletromecánicos. mems y nems'],\n",
       "        'source': 'gruplac'}],\n",
       "      'external_ids': [{'id': 'COL0012589', 'source': 'colciencias'}],\n",
       "      '_id': '602c510ffd74967db066393c',\n",
       "      'type': 'group',\n",
       "      'abbreviations': [],\n",
       "      'external_urls': [{'url': 'https://scienti.colciencias.gov.co/gruplac/jsp/visualiza/visualizagr.jsp?nro=00000000001675',\n",
       "        'source': 'gruplac'}],\n",
       "      'name': 'Instrumentación Científica y Microelectrónica',\n",
       "      'relations': [{'type': 'university',\n",
       "        'id': '60120afa4749273de6161883',\n",
       "        'name': 'University of Antioquia',\n",
       "        'collection': 'institutions'}],\n",
       "      'keywords': []}]}],\n",
       "  'updated': 1619654864},\n",
       " {'corresponding_email': '',\n",
       "  'first_names': 'S',\n",
       "  'keywords': [],\n",
       "  '_id': '606a4ca1aa884b9a1562eb7b',\n",
       "  'full_name': 'S Kodjikian',\n",
       "  'corresponding': False,\n",
       "  'source_checked': [{'date': 1617579165, 'source': 'lens'},\n",
       "   {'date': 1617579165, 'source': 'wos'},\n",
       "   {'date': 1617579165, 'source': 'scopus'},\n",
       "   {'date': 1617579165, 'source': 'scholar'}],\n",
       "  'branches': [],\n",
       "  'last_names': 'Kodjikian',\n",
       "  'external_ids': [{'value': '8683995300', 'source': 'scopus'}],\n",
       "  'initials': 'S',\n",
       "  'affiliations': [{'addresses': [],\n",
       "    'external_urls': [],\n",
       "    'external_ids': [],\n",
       "    '_id': '606a4ca1aa884b9a1562eb7a',\n",
       "    'types': [],\n",
       "    'abbreviations': [],\n",
       "    'name': 'Laboratoire des Oxydes et Fluorures-UMR 6010, Université du Maine, 72085, Le Mans Cedex 9, France',\n",
       "    'logo_url': '',\n",
       "    'branches': []}],\n",
       "  'corresponding_address': '',\n",
       "  'updated': 1617579165},\n",
       " {'corresponding_email': '',\n",
       "  'first_names': 'Jean-Marc',\n",
       "  'keywords': [],\n",
       "  '_id': '606a4ca1aa884b9a1562eb7d',\n",
       "  'full_name': 'Jean-Marc Greneche',\n",
       "  'corresponding': False,\n",
       "  'source_checked': [{'date': 1617579165, 'source': 'lens'},\n",
       "   {'date': 1617579165, 'source': 'wos'},\n",
       "   {'date': 1617579165, 'source': 'scopus'},\n",
       "   {'date': 1617579165, 'source': 'scholar'}],\n",
       "  'branches': [],\n",
       "  'last_names': 'Greneche',\n",
       "  'external_ids': [{'value': '0000-0001-7309-8633', 'source': 'orcid'},\n",
       "   {'value': '7006773670', 'source': 'scopus'},\n",
       "   {'value': '57203539019', 'source': 'scopus'}],\n",
       "  'initials': 'J',\n",
       "  'affiliations': [{'addresses': [],\n",
       "    'external_urls': [],\n",
       "    'external_ids': [],\n",
       "    '_id': '606a4ca1aa884b9a1562eb7c',\n",
       "    'types': [],\n",
       "    'abbreviations': [],\n",
       "    'name': 'Laboratoire de Physique de l’Etat Condensé-UMR 6087, Université du Maine, 72085, Le Mans Cedex 9, France',\n",
       "    'logo_url': '',\n",
       "    'branches': []}],\n",
       "  'corresponding_address': '',\n",
       "  'updated': 1619616966}]"
      ]
     },
     "execution_count": 26,
     "metadata": {},
     "output_type": "execute_result"
    }
   ],
   "source": [
    "da.authors.loc[0]"
   ]
  },
  {
   "cell_type": "code",
   "execution_count": null,
   "metadata": {},
   "outputs": [],
   "source": []
  }
 ],
 "metadata": {
  "kernelspec": {
   "display_name": "Python 3 (ipykernel)",
   "language": "python",
   "name": "python3"
  },
  "language_info": {
   "codemirror_mode": {
    "name": "ipython",
    "version": 3
   },
   "file_extension": ".py",
   "mimetype": "text/x-python",
   "name": "python",
   "nbconvert_exporter": "python",
   "pygments_lexer": "ipython3",
   "version": "3.7.3"
  }
 },
 "nbformat": 4,
 "nbformat_minor": 4
}
