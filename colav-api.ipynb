{
 "cells": [
  {
   "cell_type": "markdown",
   "metadata": {},
   "source": [
    "## Example API Colav\n",
    "Portal (alpha): http://clustercien.udea.edu.co:8889/ \n",
    "## Videos \n",
    "* [Citas Google Scholar](https://drive.google.com/file/d/16KGEHGMCyzHejyh_JIPYgyhzkgSTMxTC/view?usp=sharing)\n",
    "  * [links](https://drive.google.com/file/d/1rLYtO3p7a69NovcNBJt9AJliS8cqd9w5/view?usp=sharing)\n",
    "* [DevOps](https://drive.google.com/file/d/1hM_hcPu0pSq7KLpunXxEnkPpwHNDWQd0/view?usp=sharing)\n",
    "  * [links](https://drive.google.com/file/d/1g0MncnWaBI2MkBQM8vNpu33n9gCkiPcj/view?usp=sharing)\n",
    "* [Elasticsearch](https://drive.google.com/file/d/17wqExlzGmF4zMUcCTbLSH-vBbfuBSOqn/view?usp=sharing)\n",
    "* [MongoDB](https://drive.google.com/file/d/1FbLKiWGDUQij1yzkw-wMNMWCds0u-kTg/view?usp=sharing)\n",
    "  * [Notebook](https://drive.google.com/file/d/1IrRml7TNzYHbqetOeX3H3Kf9sjQxNiFA/view?usp=sharing)\n",
    "* [Endpoint](https://drive.google.com/file/d/1nO8Ypz-U7S2yb2guMDvDtCYyN180u_Nj/view?usp=sharing)\n",
    "* Capacitación API: https://drive.google.com/file/d/1y4-cm2tPLHPvDuNdqRwx6kQ8dztZfBIg/view?usp=sharing\n",
    "  \n",
    "## Dev code:\n",
    "* https://github.com/muzgash/HunabKu/tree/fase3/hunabku/plugins\n",
    "## Documentation\n",
    "* http://clustercien.udea.edu.co:8888/apidoc/index.html"
   ]
  },
  {
   "cell_type": "code",
   "execution_count": 1,
   "metadata": {},
   "outputs": [],
   "source": [
    "import pandas as pd\n",
    "import getpass\n",
    "import time "
   ]
  },
  {
   "cell_type": "code",
   "execution_count": 2,
   "metadata": {},
   "outputs": [
    {
     "name": "stdin",
     "output_type": "stream",
     "text": [
      "API KEY ·········\n"
     ]
    }
   ],
   "source": [
    "key=getpass.getpass('API KEY')"
   ]
  },
  {
   "cell_type": "markdown",
   "metadata": {},
   "source": [
    "TEST"
   ]
  },
  {
   "cell_type": "code",
   "execution_count": 3,
   "metadata": {},
   "outputs": [],
   "source": [
    "max_docs=1\n",
    "p=1\n",
    "df=pd.read_json(f'http://clustercien.udea.edu.co:8888/api/faculties?apikey={key}&data=production&max=1&page=1')"
   ]
  },
  {
   "cell_type": "markdown",
   "metadata": {},
   "source": [
    "Get the full documents"
   ]
  },
  {
   "cell_type": "code",
   "execution_count": 5,
   "metadata": {},
   "outputs": [
    {
     "name": "stdout",
     "output_type": "stream",
     "text": [
      "++++++++++++++++++++++++++++++++\n"
     ]
    }
   ],
   "source": [
    "#Get total results\n",
    "max_docs=1\n",
    "p=1\n",
    "tmp=pd.read_json('http://clustercien.udea.edu.co:8888/api/faculties?apikey={}&data=production&max={}&page={}'.format(key,max_docs,p))\n",
    "#Get all documents\n",
    "max_docs=100\n",
    "pages=tmp['total_results'].loc[0]//max_docs\n",
    "\n",
    "#Get all documents\n",
    "max_docs=100\n",
    "pages=tmp['total_results'].loc[0]//max_docs\n",
    "if pages%max_docs>0:\n",
    "    pages=pages+1\n",
    "if pages>=1:\n",
    "    df=pd.DataFrame()\n",
    "    for p in range(1,pages+1):\n",
    "        if p%10==0: print('+',end='')\n",
    "        try:\n",
    "            tmp=pd.read_json('http://clustercien.udea.edu.co:8888/api/faculties?apikey={}&data=production&max={}&page={}'.format(key,max_docs,p))\n",
    "        except:\n",
    "            tmp=pd.DataFrame()\n",
    "        df=df.append( tmp['data'].values.tolist(),ignore_index=True  )\n",
    "        time.sleep(1)\n",
    "print()"
   ]
  },
  {
   "cell_type": "code",
   "execution_count": 6,
   "metadata": {},
   "outputs": [],
   "source": [
    "SAVE=False\n",
    "if SAVE:\n",
    "    df.to_json('udea.json',orient='records')"
   ]
  },
  {
   "cell_type": "code",
   "execution_count": 52,
   "metadata": {},
   "outputs": [],
   "source": [
    "df=pd.read_json('https://github.com/restrepo/colav-api/raw/main/udea.json.gz')"
   ]
  },
  {
   "cell_type": "code",
   "execution_count": 53,
   "metadata": {},
   "outputs": [
    {
     "data": {
      "text/plain": [
       "(25961, 31)"
      ]
     },
     "execution_count": 53,
     "metadata": {},
     "output_type": "execute_result"
    }
   ],
   "source": [
    "df.shape"
   ]
  },
  {
   "cell_type": "markdown",
   "metadata": {},
   "source": [
    "By document type"
   ]
  },
  {
   "cell_type": "code",
   "execution_count": 48,
   "metadata": {},
   "outputs": [],
   "source": [
    "def get_affiliation(l,name= 'Universidad de Antioquia'):\n",
    "    aff=False\n",
    "    for d in l:\n",
    "        if isinstance( d.get('affiliations'), list):\n",
    "            for dd in d.get('affiliations'):\n",
    "                if dd.get('name')==name:\n",
    "                    aff=True\n",
    "    return aff"
   ]
  },
  {
   "cell_type": "code",
   "execution_count": 49,
   "metadata": {},
   "outputs": [],
   "source": [
    "df=df[df.authors.apply(lambda l: get_affiliation(l,name= 'Universidad de Antioquia'))].reset_index(drop=True)"
   ]
  },
  {
   "cell_type": "code",
   "execution_count": 50,
   "metadata": {},
   "outputs": [
    {
     "data": {
      "text/plain": [
       "(25961, 31)"
      ]
     },
     "execution_count": 50,
     "metadata": {},
     "output_type": "execute_result"
    }
   ],
   "source": [
    "df.shape"
   ]
  },
  {
   "cell_type": "code",
   "execution_count": 51,
   "metadata": {},
   "outputs": [],
   "source": [
    "#df.to_json('udea.json',orient='records')"
   ]
  },
  {
   "cell_type": "code",
   "execution_count": 8,
   "metadata": {},
   "outputs": [
    {
     "data": {
      "text/plain": [
       "array(['book chapter', 'journal article',\n",
       "       'conference proceedings article', 'article', 'preprint',\n",
       "       'conference proceedings', 'series', 'review', 'book',\n",
       "       'article; proceedings paper', 'editorial material',\n",
       "       'journal issue', 'article; early access', 'letter',\n",
       "       'article; data paper', 'journal', 'report', 'correction',\n",
       "       'proceedings paper', 'dissertation', 'book review', '',\n",
       "       'clinical trial', 'meeting abstract', 'biographical-item', 'note'],\n",
       "      dtype=object)"
      ]
     },
     "execution_count": 8,
     "metadata": {},
     "output_type": "execute_result"
    }
   ],
   "source": [
    "df['publication_type'].unique()"
   ]
  },
  {
   "cell_type": "code",
   "execution_count": 9,
   "metadata": {},
   "outputs": [],
   "source": [
    "nttmp=df[df['publication_type']==''].reset_index(drop=True)\n",
    "nt=nttmp[nttmp.bibtex.str.split(\"@article{\").str[-1].str.split('\\n').str[3].str.contains('journal=').fillna(False)]\n",
    "nnt=nttmp[~nttmp.bibtex.str.split(\"@article{\").str[-1].str.split('\\n').str[3].str.contains('journal=').fillna(False)]"
   ]
  },
  {
   "cell_type": "markdown",
   "metadata": {},
   "source": [
    "Margen de error: Ver https://github.com/colav/Kahi/issues/31"
   ]
  },
  {
   "cell_type": "code",
   "execution_count": 10,
   "metadata": {},
   "outputs": [
    {
     "data": {
      "text/plain": [
       "4       [  year={2009},,   publisher={Universidad de A...\n",
       "10      [  year={2015},,   publisher={Universidad de A...\n",
       "20      [  booktitle={Congresos CLABES},,   year={2015...\n",
       "27      [  year={2005},,   publisher={Universidad de A...\n",
       "29      [  year={2010},,   publisher={Universidad de A...\n",
       "                              ...                        \n",
       "7169                                                   []\n",
       "7170                                                   []\n",
       "7172                                                   []\n",
       "7177    [  year={2004},,   publisher={Universidad de A...\n",
       "7182                                 [  year={1992}, }, ]\n",
       "Name: bibtex, Length: 950, dtype: object"
      ]
     },
     "execution_count": 10,
     "metadata": {},
     "output_type": "execute_result"
    }
   ],
   "source": [
    "nnt.bibtex.str.split(\"@article{\").str[-1].str.split('\\n').str[3:]"
   ]
  },
  {
   "cell_type": "code",
   "execution_count": 11,
   "metadata": {},
   "outputs": [
    {
     "data": {
      "text/plain": [
       "(7185, 6235)"
      ]
     },
     "execution_count": 11,
     "metadata": {},
     "output_type": "execute_result"
    }
   ],
   "source": [
    "nttmp.shape[0],nt.shape[0]"
   ]
  },
  {
   "cell_type": "code",
   "execution_count": 12,
   "metadata": {},
   "outputs": [],
   "source": [
    "df=df[( ( df['publication_type']!='preprint' ) & \n",
    "    ( df['publication_type']!='correction' ) &\n",
    "    ( df['publication_type']!='book review' ) &\n",
    "    ( df['publication_type']!= 'meeting abstract' ) &\n",
    "    ( df['publication_type']!= 'biographical-item' ) &\n",
    "    ( df['publication_type']!= 'note' ) \n",
    "   )].reset_index(drop=True)"
   ]
  },
  {
   "cell_type": "code",
   "execution_count": 13,
   "metadata": {},
   "outputs": [
    {
     "data": {
      "text/plain": [
       "(25908, 31)"
      ]
     },
     "execution_count": 13,
     "metadata": {},
     "output_type": "execute_result"
    }
   ],
   "source": [
    "df.shape"
   ]
  },
  {
   "cell_type": "code",
   "execution_count": 14,
   "metadata": {},
   "outputs": [
    {
     "data": {
      "text/plain": [
       "array(['book chapter', 'journal article',\n",
       "       'conference proceedings article', 'article',\n",
       "       'conference proceedings', 'series', 'review', 'book',\n",
       "       'article; proceedings paper', 'editorial material',\n",
       "       'journal issue', 'article; early access', 'letter',\n",
       "       'article; data paper', 'journal', 'report', 'proceedings paper',\n",
       "       'dissertation', '', 'clinical trial'], dtype=object)"
      ]
     },
     "execution_count": 14,
     "metadata": {},
     "output_type": "execute_result"
    }
   ],
   "source": [
    "df['publication_type'].unique()"
   ]
  },
  {
   "cell_type": "code",
   "execution_count": 15,
   "metadata": {},
   "outputs": [
    {
     "data": {
      "text/plain": [
       "(9527, 31)"
      ]
     },
     "execution_count": 15,
     "metadata": {},
     "output_type": "execute_result"
    }
   ],
   "source": [
    "df[df['year_published']>2014].shape"
   ]
  },
  {
   "cell_type": "code",
   "execution_count": 16,
   "metadata": {},
   "outputs": [
    {
     "data": {
      "text/plain": [
       "year_published\n",
       "2016    2042\n",
       "2017    1835\n",
       "2018    1676\n",
       "2019    1594\n",
       "2020     458\n",
       "Name: year_published, dtype: int64"
      ]
     },
     "execution_count": 16,
     "metadata": {},
     "output_type": "execute_result"
    }
   ],
   "source": [
    "df[df['year_published']>2015].groupby('year_published')['year_published'].count()"
   ]
  },
  {
   "cell_type": "markdown",
   "metadata": {},
   "source": [
    "Comparisssion with https://link.lens.org/WsuTK1cXrbk for all publication types\n",
    "```\n",
    "2016 2043\n",
    "2017 1844\n",
    "2018 1742\n",
    "2019 1706\n",
    "2020 1723\n",
    "TOTAL 29736\n",
    "```\n",
    "For Journal Article, Conference Proceedings (article), Book chapter, Book\n",
    "```\n",
    "2016 1534\n",
    "2017 1479\n",
    "2018 1462\n",
    "2019 1487\n",
    "2020 1593\n",
    "TOTAL 20425 # https://link.lens.org/3StGzoZb8je\n",
    "```"
   ]
  },
  {
   "cell_type": "code",
   "execution_count": 17,
   "metadata": {},
   "outputs": [],
   "source": [
    "def get_db(l,dbs=['scopus','wos']):\n",
    "    chkdb=False\n",
    "    for d in l:\n",
    "        if d.get('source') in dbs:\n",
    "            chkdb=True\n",
    "    return chkdb"
   ]
  },
  {
   "cell_type": "code",
   "execution_count": 18,
   "metadata": {},
   "outputs": [],
   "source": [
    "dfs=df[df['external_ids'].apply(lambda l: get_db(l,dbs=['scopus','wos']) )].reset_index(drop=True)"
   ]
  },
  {
   "cell_type": "code",
   "execution_count": 19,
   "metadata": {},
   "outputs": [
    {
     "data": {
      "text/plain": [
       "year_published\n",
       "2016     987\n",
       "2017    1057\n",
       "2018    1100\n",
       "2019    1127\n",
       "2020     345\n",
       "Name: year_published, dtype: int64"
      ]
     },
     "execution_count": 19,
     "metadata": {},
     "output_type": "execute_result"
    }
   ],
   "source": [
    "dfs[dfs['year_published']>2015].groupby('year_published')['year_published'].count()"
   ]
  },
  {
   "cell_type": "code",
   "execution_count": 21,
   "metadata": {},
   "outputs": [
    {
     "data": {
      "text/plain": [
       "(11432, 31)"
      ]
     },
     "execution_count": 21,
     "metadata": {},
     "output_type": "execute_result"
    }
   ],
   "source": [
    "dfs.shape"
   ]
  },
  {
   "cell_type": "code",
   "execution_count": 39,
   "metadata": {},
   "outputs": [],
   "source": [
    "def extract_corresponding_affiliation(l,affiliation='Universidad de Antioquia'):\n",
    "    CORR=False\n",
    "    for d in l:        \n",
    "        if d.get('corresponding') and affiliation in [dd.get('name') for dd in d.get('affiliations')]:\n",
    "            CORR=True\n",
    "    return CORR"
   ]
  },
  {
   "cell_type": "code",
   "execution_count": 44,
   "metadata": {},
   "outputs": [
    {
     "data": {
      "text/plain": [
       "(2044, 31)"
      ]
     },
     "execution_count": 44,
     "metadata": {},
     "output_type": "execute_result"
    }
   ],
   "source": [
    "dfsa=dfs[dfs.authors.apply(lambda l: extract_corresponding_affiliation(l,affiliation='Universidad de Antioquia'))].reset_index(drop=True)\n",
    "dfsa.shape"
   ]
  },
  {
   "cell_type": "code",
   "execution_count": 45,
   "metadata": {},
   "outputs": [
    {
     "data": {
      "text/plain": [
       "year_published\n",
       "2016    170\n",
       "2017    188\n",
       "2018    199\n",
       "2019    213\n",
       "2020     62\n",
       "Name: year_published, dtype: int64"
      ]
     },
     "execution_count": 45,
     "metadata": {},
     "output_type": "execute_result"
    }
   ],
   "source": [
    "dfsa[dfsa['year_published']>2015].groupby('year_published')['year_published'].count()"
   ]
  },
  {
   "cell_type": "code",
   "execution_count": 43,
   "metadata": {},
   "outputs": [
    {
     "data": {
      "text/plain": [
       "(5442, 31)"
      ]
     },
     "execution_count": 43,
     "metadata": {},
     "output_type": "execute_result"
    }
   ],
   "source": [
    "df[df.authors.apply(lambda l: extract_corresponding_affiliation(l,affiliation='Universidad de Antioquia'))].shape"
   ]
  },
  {
   "cell_type": "code",
   "execution_count": 7,
   "metadata": {},
   "outputs": [],
   "source": [
    "from unidecode import unidecode"
   ]
  },
  {
   "cell_type": "markdown",
   "metadata": {},
   "source": [
    "search for some author"
   ]
  },
  {
   "cell_type": "code",
   "execution_count": 8,
   "metadata": {},
   "outputs": [
    {
     "data": {
      "text/plain": [
       "(29, 20)"
      ]
     },
     "execution_count": 8,
     "metadata": {},
     "output_type": "execute_result"
    }
   ],
   "source": [
    "oz=df[df.authors.apply(lambda l: True in [unidecode(d.get('full_name'))=='Oscar Alberto Zapata Norena' for d in l ] )]\n",
    "oz.shape[0],oz[oz['topics'].astype(str).str.lower().str.contains('physics')].shape[0]"
   ]
  },
  {
   "cell_type": "markdown",
   "metadata": {},
   "source": [
    "Define a function to get a flat DataFrame with articles for an author"
   ]
  },
  {
   "cell_type": "code",
   "execution_count": 9,
   "metadata": {},
   "outputs": [],
   "source": [
    "from unidecode import unidecode\n",
    "def get_author(df,author):\n",
    "    da=df[df.authors.apply(lambda l: True in [unidecode(d.get('full_name'))==unidecode(author) for d in l ] )].reset_index(drop=True)\n",
    "\n",
    "    da['authors']=da.authors.apply(lambda l: [d.get('full_name') for d in l])\n",
    "\n",
    "    da['doi']=da['external_ids'].apply(lambda l: [d.get('id') for d in l if d.get('source')=='doi']).str[0].fillna('')\n",
    "    da['title']=da['titles'].apply(lambda l: [d.get('title') for d in l]).str[0]\n",
    "    da['journal']=da['source'].apply(lambda d: d.get('title') )\n",
    "    da['issn']=da['source'].apply(lambda d: [x.get('value') for x in d.get('serials')]).str[0]\n",
    "\n",
    "    return da[['authors','title','publication_type','journal','issn',\n",
    "               'year_published','issue', 'start_page',\n",
    "               'end_page','doi','citations_count']]"
   ]
  },
  {
   "cell_type": "code",
   "execution_count": 10,
   "metadata": {},
   "outputs": [],
   "source": [
    "authors=['Liliana Mahecha Ledesma',\n",
    "'Joaquín Angulo Arizala',\n",
    "'Sandra Lucía Posada Ochoa',\n",
    "'Jaime Ricardo Rosero Noguera',\n",
    "'Jorge Hernán Agudelo Trujillo',\n",
    "'Marisol Medina Sierra',\n",
    "'Mónica María Estrada Pareja',\n",
    "'Sara María Márquez Girón',\n",
    "'Mario Fernando Cerón Muñoz',\n",
    "'Luis Fernando Galeano Vasco',\n",
    "'Henry Cardona Cadavid',\n",
    "'Zulma Tatiana Ruiz Cortez',\n",
    "'Holmes Hernan Rodríguez Espinosa',\n",
    "'José Fernando Guarín Montoya',\n",
    "'Julio Echeverri Gómez',\n",
    "'Elkin Mauricio Arboleda Zapata',\n",
    "'Juan David Rodas González',\n",
    "'Martha Eufemia Olivera Ángel',\n",
    "'Jenny Jovana Chaparro Gutiérrez']"
   ]
  },
  {
   "cell_type": "code",
   "execution_count": 11,
   "metadata": {},
   "outputs": [
    {
     "data": {
      "text/plain": [
       "19"
      ]
     },
     "execution_count": 11,
     "metadata": {},
     "output_type": "execute_result"
    }
   ],
   "source": [
    "len(authors)"
   ]
  },
  {
   "cell_type": "code",
   "execution_count": 12,
   "metadata": {},
   "outputs": [
    {
     "name": "stdout",
     "output_type": "stream",
     "text": [
      "WARNING: missing Zulma Tatiana Ruiz Cortez\n",
      "WARNING: missing Julio Echeverri Gómez\n"
     ]
    }
   ],
   "source": [
    "das=pd.DataFrame()\n",
    "for a in authors:\n",
    "    da=get_author(df,a)\n",
    "    if da.empty:\n",
    "        print(f'WARNING: missing {a}')\n",
    "    da['autor_maestría']=a\n",
    "    das=das.append(da).reset_index(drop=True)"
   ]
  },
  {
   "cell_type": "code",
   "execution_count": 13,
   "metadata": {},
   "outputs": [],
   "source": [
    "das=das.reset_index(drop=True)[['autor_maestría','authors','title','publication_type',\n",
    "                                'journal','issn','year_published','issue', 'start_page',\n",
    "                                'end_page','doi','citations_count']]"
   ]
  },
  {
   "cell_type": "markdown",
   "metadata": {},
   "source": [
    "Check data quality"
   ]
  },
  {
   "cell_type": "code",
   "execution_count": 14,
   "metadata": {},
   "outputs": [
    {
     "data": {
      "text/plain": [
       "(869, 12)"
      ]
     },
     "execution_count": 14,
     "metadata": {},
     "output_type": "execute_result"
    }
   ],
   "source": [
    "das.shape"
   ]
  },
  {
   "cell_type": "code",
   "execution_count": 15,
   "metadata": {},
   "outputs": [],
   "source": [
    "das=das.drop_duplicates('title').reset_index(drop=True)"
   ]
  },
  {
   "cell_type": "code",
   "execution_count": 16,
   "metadata": {},
   "outputs": [
    {
     "data": {
      "text/plain": [
       "(700, 12)"
      ]
     },
     "execution_count": 16,
     "metadata": {},
     "output_type": "execute_result"
    }
   ],
   "source": [
    "das.shape"
   ]
  },
  {
   "cell_type": "code",
   "execution_count": 200,
   "metadata": {},
   "outputs": [],
   "source": [
    "dasy=das[das['journal']!=''].reset_index(drop=True)\n",
    "dasn=das[das['journal']==''].reset_index(drop=True)"
   ]
  },
  {
   "cell_type": "code",
   "execution_count": 201,
   "metadata": {},
   "outputs": [
    {
     "data": {
      "text/plain": [
       "700"
      ]
     },
     "execution_count": 201,
     "metadata": {},
     "output_type": "execute_result"
    }
   ],
   "source": [
    "dasy.shape[0]+dasn.shape[0]"
   ]
  },
  {
   "cell_type": "code",
   "execution_count": 202,
   "metadata": {},
   "outputs": [
    {
     "data": {
      "text/plain": [
       "(582, 12)"
      ]
     },
     "execution_count": 202,
     "metadata": {},
     "output_type": "execute_result"
    }
   ],
   "source": [
    "dasy.shape"
   ]
  },
  {
   "cell_type": "code",
   "execution_count": 203,
   "metadata": {},
   "outputs": [],
   "source": [
    "dasy=dasy.drop_duplicates(subset=['journal','issn','year_published','issue','start_page','end_page','doi']).reset_index(drop=True)"
   ]
  },
  {
   "cell_type": "code",
   "execution_count": 204,
   "metadata": {},
   "outputs": [],
   "source": [
    "das=dasy.append(dasn).reset_index(drop=True)"
   ]
  },
  {
   "cell_type": "code",
   "execution_count": 205,
   "metadata": {},
   "outputs": [],
   "source": [
    "das.to_excel('produccion_total_maestria_en_ciencias_animales.xlsx',index=False)"
   ]
  },
  {
   "cell_type": "code",
   "execution_count": 206,
   "metadata": {},
   "outputs": [
    {
     "data": {
      "text/html": [
       "<div>\n",
       "<style scoped>\n",
       "    .dataframe tbody tr th:only-of-type {\n",
       "        vertical-align: middle;\n",
       "    }\n",
       "\n",
       "    .dataframe tbody tr th {\n",
       "        vertical-align: top;\n",
       "    }\n",
       "\n",
       "    .dataframe thead th {\n",
       "        text-align: right;\n",
       "    }\n",
       "</style>\n",
       "<table border=\"1\" class=\"dataframe\">\n",
       "  <thead>\n",
       "    <tr style=\"text-align: right;\">\n",
       "      <th></th>\n",
       "      <th>autor_maestría</th>\n",
       "      <th>authors</th>\n",
       "      <th>title</th>\n",
       "      <th>publication_type</th>\n",
       "      <th>journal</th>\n",
       "      <th>issn</th>\n",
       "      <th>year_published</th>\n",
       "      <th>issue</th>\n",
       "      <th>start_page</th>\n",
       "      <th>end_page</th>\n",
       "      <th>doi</th>\n",
       "      <th>citations_count</th>\n",
       "    </tr>\n",
       "  </thead>\n",
       "  <tbody>\n",
       "    <tr>\n",
       "      <th>0</th>\n",
       "      <td>Liliana Mahecha Ledesma</td>\n",
       "      <td>[Joaquin Angulo Arizala, Luis Miguel Gómez, Liliana Mahecha Ledesma, Estefanía Mejía, Javier Henao, Carolina Mesa]</td>\n",
       "      <td>Calf’s sex, parity and the hour of harvest after calving affect colostrum quality of dairy cows grazing under high tropical conditions</td>\n",
       "      <td>journal article</td>\n",
       "      <td>Tropical Animal Health and Production</td>\n",
       "      <td>00494747</td>\n",
       "      <td>2015</td>\n",
       "      <td>4</td>\n",
       "      <td>699</td>\n",
       "      <td>705</td>\n",
       "      <td>10.1007/s11250-015-0781-z</td>\n",
       "      <td>13</td>\n",
       "    </tr>\n",
       "    <tr>\n",
       "      <th>1</th>\n",
       "      <td>Liliana Mahecha Ledesma</td>\n",
       "      <td>[Juan Londoño C, Liliana Mahecha Ledesma, Joaquín Angulo A]</td>\n",
       "      <td>Desempeño agronómico y valor nutritivo de Tithonia diversifolia (Hemsl.) A Gray para la alimentación de bovinos</td>\n",
       "      <td>journal article</td>\n",
       "      <td>Revista Colombiana de Ciencia Animal Recia</td>\n",
       "      <td>20274297</td>\n",
       "      <td>2019</td>\n",
       "      <td>1</td>\n",
       "      <td></td>\n",
       "      <td></td>\n",
       "      <td>10.24188/recia.v0.n0.2019.693</td>\n",
       "      <td>5</td>\n",
       "    </tr>\n",
       "    <tr>\n",
       "      <th>2</th>\n",
       "      <td>Liliana Mahecha Ledesma</td>\n",
       "      <td>[Joaquin Angulo Arizala, B. Hiller, E. Albrecht, Martha Eufemia Olivera Angel, Liliana Mahecha Ledesma, G. Nuernberg, D. Dannenberger, K. Nuernberg]</td>\n",
       "      <td>Effect of different dietary fats on protein expression of sterol regulatory element-binding protein 1 (SREBP-1) in mammary gland tissue of lactating cows</td>\n",
       "      <td>article</td>\n",
       "      <td>LIVESTOCK SCIENCE</td>\n",
       "      <td>18711413</td>\n",
       "      <td>2012</td>\n",
       "      <td>2-3</td>\n",
       "      <td>300</td>\n",
       "      <td>304</td>\n",
       "      <td>10.1016/j.livsci.2011.10.008</td>\n",
       "      <td>9</td>\n",
       "    </tr>\n",
       "    <tr>\n",
       "      <th>3</th>\n",
       "      <td>Liliana Mahecha Ledesma</td>\n",
       "      <td>[Esperanza Prieto-Manrique, Julio Ernesto Vargas-Sánchez, Joaquin Angulo Arizala, Liliana Mahecha Ledesma]</td>\n",
       "      <td>Suplementación con aceite de girasol sobre ácidos grasos de la leche en una lechería tropical</td>\n",
       "      <td>journal article</td>\n",
       "      <td>Revista Colombiana de Ciencia Animal Recia</td>\n",
       "      <td>20274297</td>\n",
       "      <td>2016</td>\n",
       "      <td></td>\n",
       "      <td>297</td>\n",
       "      <td>309</td>\n",
       "      <td>10.24188/recia.v8.n0.2016.385</td>\n",
       "      <td>1</td>\n",
       "    </tr>\n",
       "    <tr>\n",
       "      <th>4</th>\n",
       "      <td>Liliana Mahecha Ledesma</td>\n",
       "      <td>[Wilson Barragán Hernández, Liliana Mahecha Ledesma, Yasmín Socorro Cajas-Girón]</td>\n",
       "      <td>Efecto de sistemas silvopastoriles en la producción y composición de la leche bajo condiciones del valle medio del rio sinú, Colombia</td>\n",
       "      <td>journal article</td>\n",
       "      <td>Revista Colombiana de Ciencia Animal Recia</td>\n",
       "      <td>20274297</td>\n",
       "      <td>2016</td>\n",
       "      <td>2</td>\n",
       "      <td>187</td>\n",
       "      <td>196</td>\n",
       "      <td>10.24188/recia.v8.n2.2016.186</td>\n",
       "      <td>5</td>\n",
       "    </tr>\n",
       "  </tbody>\n",
       "</table>\n",
       "</div>"
      ],
      "text/plain": [
       "            autor_maestría  \\\n",
       "0  Liliana Mahecha Ledesma   \n",
       "1  Liliana Mahecha Ledesma   \n",
       "2  Liliana Mahecha Ledesma   \n",
       "3  Liliana Mahecha Ledesma   \n",
       "4  Liliana Mahecha Ledesma   \n",
       "\n",
       "                                                                                                                                                authors  \\\n",
       "0                                    [Joaquin Angulo Arizala, Luis Miguel Gómez, Liliana Mahecha Ledesma, Estefanía Mejía, Javier Henao, Carolina Mesa]   \n",
       "1                                                                                           [Juan Londoño C, Liliana Mahecha Ledesma, Joaquín Angulo A]   \n",
       "2  [Joaquin Angulo Arizala, B. Hiller, E. Albrecht, Martha Eufemia Olivera Angel, Liliana Mahecha Ledesma, G. Nuernberg, D. Dannenberger, K. Nuernberg]   \n",
       "3                                            [Esperanza Prieto-Manrique, Julio Ernesto Vargas-Sánchez, Joaquin Angulo Arizala, Liliana Mahecha Ledesma]   \n",
       "4                                                                      [Wilson Barragán Hernández, Liliana Mahecha Ledesma, Yasmín Socorro Cajas-Girón]   \n",
       "\n",
       "                                                                                                                                                       title  \\\n",
       "0                     Calf’s sex, parity and the hour of harvest after calving affect colostrum quality of dairy cows grazing under high tropical conditions   \n",
       "1                                            Desempeño agronómico y valor nutritivo de Tithonia diversifolia (Hemsl.) A Gray para la alimentación de bovinos   \n",
       "2  Effect of different dietary fats on protein expression of sterol regulatory element-binding protein 1 (SREBP-1) in mammary gland tissue of lactating cows   \n",
       "3                                                              Suplementación con aceite de girasol sobre ácidos grasos de la leche en una lechería tropical   \n",
       "4                      Efecto de sistemas silvopastoriles en la producción y composición de la leche bajo condiciones del valle medio del rio sinú, Colombia   \n",
       "\n",
       "  publication_type                                     journal      issn  \\\n",
       "0  journal article       Tropical Animal Health and Production  00494747   \n",
       "1  journal article  Revista Colombiana de Ciencia Animal Recia  20274297   \n",
       "2          article                           LIVESTOCK SCIENCE  18711413   \n",
       "3  journal article  Revista Colombiana de Ciencia Animal Recia  20274297   \n",
       "4  journal article  Revista Colombiana de Ciencia Animal Recia  20274297   \n",
       "\n",
       "  year_published issue start_page end_page                            doi  \\\n",
       "0           2015     4        699      705      10.1007/s11250-015-0781-z   \n",
       "1           2019     1                      10.24188/recia.v0.n0.2019.693   \n",
       "2           2012   2-3        300      304   10.1016/j.livsci.2011.10.008   \n",
       "3           2016              297      309  10.24188/recia.v8.n0.2016.385   \n",
       "4           2016     2        187      196  10.24188/recia.v8.n2.2016.186   \n",
       "\n",
       "   citations_count  \n",
       "0               13  \n",
       "1                5  \n",
       "2                9  \n",
       "3                1  \n",
       "4                5  "
      ]
     },
     "execution_count": 206,
     "metadata": {},
     "output_type": "execute_result"
    }
   ],
   "source": [
    "das[:5]"
   ]
  },
  {
   "cell_type": "code",
   "execution_count": 207,
   "metadata": {},
   "outputs": [
    {
     "data": {
      "text/plain": [
       "182"
      ]
     },
     "execution_count": 207,
     "metadata": {},
     "output_type": "execute_result"
    }
   ],
   "source": [
    "das[das['year_published']>2015].shape[0]"
   ]
  },
  {
   "cell_type": "code",
   "execution_count": 208,
   "metadata": {},
   "outputs": [
    {
     "data": {
      "text/plain": [
       "575"
      ]
     },
     "execution_count": 208,
     "metadata": {},
     "output_type": "execute_result"
    }
   ],
   "source": [
    "das[das['year_published']>2015].citations_count.sum()"
   ]
  },
  {
   "cell_type": "code",
   "execution_count": 209,
   "metadata": {},
   "outputs": [
    {
     "data": {
      "text/plain": [
       "1.8370607028753994"
      ]
     },
     "execution_count": 209,
     "metadata": {},
     "output_type": "execute_result"
    }
   ],
   "source": [
    "das[das['year_published']>2015].citations_count.sum()/das[das['year_published']>2012].shape[0]"
   ]
  },
  {
   "cell_type": "code",
   "execution_count": 210,
   "metadata": {},
   "outputs": [
    {
     "data": {
      "text/plain": [
       "7.8514376996805115"
      ]
     },
     "execution_count": 210,
     "metadata": {},
     "output_type": "execute_result"
    }
   ],
   "source": [
    "das.citations_count.sum()/das.shape[0]"
   ]
  },
  {
   "cell_type": "code",
   "execution_count": 211,
   "metadata": {},
   "outputs": [
    {
     "data": {
      "text/plain": [
       "0.8642611683848798"
      ]
     },
     "execution_count": 211,
     "metadata": {},
     "output_type": "execute_result"
    }
   ],
   "source": [
    "503/582"
   ]
  },
  {
   "cell_type": "markdown",
   "metadata": {},
   "source": [
    "API Author"
   ]
  },
  {
   "cell_type": "code",
   "execution_count": 13,
   "metadata": {},
   "outputs": [],
   "source": [
    "url=f'http://clustercien.udea.edu.co:8888/api/authors?apikey={key}&data=production&id=5fc66fdfb246cc0887190aa6&max=100&page=1'"
   ]
  },
  {
   "cell_type": "code",
   "execution_count": 14,
   "metadata": {},
   "outputs": [],
   "source": [
    "import pandas as pd"
   ]
  },
  {
   "cell_type": "code",
   "execution_count": 15,
   "metadata": {},
   "outputs": [],
   "source": [
    "import requests"
   ]
  },
  {
   "cell_type": "code",
   "execution_count": 16,
   "metadata": {},
   "outputs": [],
   "source": [
    "r=requests.get(url)"
   ]
  },
  {
   "cell_type": "markdown",
   "metadata": {},
   "source": []
  },
  {
   "cell_type": "code",
   "execution_count": 19,
   "metadata": {},
   "outputs": [
    {
     "data": {
      "text/html": [
       "<div>\n",
       "<style scoped>\n",
       "    .dataframe tbody tr th:only-of-type {\n",
       "        vertical-align: middle;\n",
       "    }\n",
       "\n",
       "    .dataframe tbody tr th {\n",
       "        vertical-align: top;\n",
       "    }\n",
       "\n",
       "    .dataframe thead th {\n",
       "        text-align: right;\n",
       "    }\n",
       "</style>\n",
       "<table border=\"1\" class=\"dataframe\">\n",
       "  <thead>\n",
       "    <tr style=\"text-align: right;\">\n",
       "      <th></th>\n",
       "      <th>urls</th>\n",
       "      <th>source_checked</th>\n",
       "      <th>keywords</th>\n",
       "      <th>open_access_status</th>\n",
       "      <th>citations_count</th>\n",
       "      <th>topics</th>\n",
       "      <th>publication_type</th>\n",
       "      <th>end_page</th>\n",
       "      <th>author_count</th>\n",
       "      <th>date_published</th>\n",
       "      <th>...</th>\n",
       "      <th>volume</th>\n",
       "      <th>source</th>\n",
       "      <th>references</th>\n",
       "      <th>issue</th>\n",
       "      <th>year_published</th>\n",
       "      <th>bibtex</th>\n",
       "      <th>citations_link</th>\n",
       "      <th>languages</th>\n",
       "      <th>_id</th>\n",
       "      <th>references_count</th>\n",
       "    </tr>\n",
       "  </thead>\n",
       "  <tbody>\n",
       "    <tr>\n",
       "      <th>0</th>\n",
       "      <td>[{'url': 'https://www.scopus.com/inward/record...</td>\n",
       "      <td>[{'source': 'lens', 'ts': 1617579319}, {'sourc...</td>\n",
       "      <td>[]</td>\n",
       "      <td>green</td>\n",
       "      <td>19</td>\n",
       "      <td>[{'source': 'lens', 'topics': ['Particle physi...</td>\n",
       "      <td>journal article</td>\n",
       "      <td></td>\n",
       "      <td>4</td>\n",
       "      <td>1471392000</td>\n",
       "      <td>...</td>\n",
       "      <td>94</td>\n",
       "      <td>{'subjects': {}, 'institution_id': '', 'source...</td>\n",
       "      <td>[]</td>\n",
       "      <td>3</td>\n",
       "      <td>2016</td>\n",
       "      <td>@article{von2016radiative,\\n  title={Radiative...</td>\n",
       "      <td>/scholar?cites=8886486850903082704&amp;as_sdt=2005...</td>\n",
       "      <td>[en]</td>\n",
       "      <td>606a4d38aa884b9a156300f1</td>\n",
       "      <td>99</td>\n",
       "    </tr>\n",
       "  </tbody>\n",
       "</table>\n",
       "<p>1 rows × 31 columns</p>\n",
       "</div>"
      ],
      "text/plain": [
       "                                                urls  \\\n",
       "0  [{'url': 'https://www.scopus.com/inward/record...   \n",
       "\n",
       "                                      source_checked keywords  \\\n",
       "0  [{'source': 'lens', 'ts': 1617579319}, {'sourc...       []   \n",
       "\n",
       "  open_access_status  citations_count  \\\n",
       "0              green               19   \n",
       "\n",
       "                                              topics publication_type  \\\n",
       "0  [{'source': 'lens', 'topics': ['Particle physi...  journal article   \n",
       "\n",
       "  end_page  author_count date_published  ... volume  \\\n",
       "0                      4     1471392000  ...     94   \n",
       "\n",
       "                                              source references issue  \\\n",
       "0  {'subjects': {}, 'institution_id': '', 'source...         []     3   \n",
       "\n",
       "  year_published                                             bibtex  \\\n",
       "0           2016  @article{von2016radiative,\\n  title={Radiative...   \n",
       "\n",
       "                                      citations_link languages  \\\n",
       "0  /scholar?cites=8886486850903082704&as_sdt=2005...      [en]   \n",
       "\n",
       "                        _id  references_count  \n",
       "0  606a4d38aa884b9a156300f1                99  \n",
       "\n",
       "[1 rows x 31 columns]"
      ]
     },
     "execution_count": 19,
     "metadata": {},
     "output_type": "execute_result"
    }
   ],
   "source": [
    "pd.DataFrame(r.json()['data'])[:1]"
   ]
  },
  {
   "cell_type": "code",
   "execution_count": 23,
   "metadata": {},
   "outputs": [],
   "source": [
    "author='Cesar Augusto Barrero Meneses'\n",
    "da=df[df.authors.apply(lambda l: True in [unidecode(d.get('full_name'))==unidecode(author) for d in l ] )].reset_index(drop=True)"
   ]
  },
  {
   "cell_type": "code",
   "execution_count": null,
   "metadata": {},
   "outputs": [],
   "source": []
  }
 ],
 "metadata": {
  "kernelspec": {
   "display_name": "Python 3 (ipykernel)",
   "language": "python",
   "name": "python3"
  },
  "language_info": {
   "codemirror_mode": {
    "name": "ipython",
    "version": 3
   },
   "file_extension": ".py",
   "mimetype": "text/x-python",
   "name": "python",
   "nbconvert_exporter": "python",
   "pygments_lexer": "ipython3",
   "version": "3.7.3"
  }
 },
 "nbformat": 4,
 "nbformat_minor": 4
}
